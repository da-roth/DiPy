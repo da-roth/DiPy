{
 "cells": [
  {
   "cell_type": "code",
   "execution_count": 3,
   "metadata": {},
   "outputs": [],
   "source": [
    "import os\n",
    "os.getcwd()  # Check the current working directory\n",
    "\n",
    "# # Step 3: Add the parent directory to the sys.path\n",
    "import sys\n",
    "sys.path.append(os.path.abspath(os.path.join(os.getcwd(), '..')))\n",
    "\n",
    "# Step 4: Import the class from the module in the dipy directory\n",
    "import dipy.dipy as di\n"
   ]
  },
  {
   "cell_type": "code",
   "execution_count": 4,
   "metadata": {},
   "outputs": [
    {
     "name": "stdout",
     "output_type": "stream",
     "text": [
      "spent:  0.0073398232460021974\n",
      "Standard MC result: 10.005160331726074\n",
      "Delta approximation: 0.4997560977935791\n",
      "Performance test of standard: \n",
      "Starting performance test:\n",
      "Mean execution time: 0.001465 seconds\n",
      "Variance in execution time: 0.000016 seconds\n"
     ]
    }
   ],
   "source": [
    "# For performance testing:\n",
    "import time\n",
    "\n",
    "#\n",
    "# Example usage: digital asset or nothing\n",
    "#\n",
    "\n",
    "s0_value = 100.0\n",
    "K_value = 110.0\n",
    "r_value = 0.05\n",
    "sigma_value = 0.3\n",
    "dt_value = 1\n",
    "u_value = 0.5 # scipy.stats.uniform.rvs()\n",
    "z_value = 0.5\n",
    "\n",
    "N = 1000000\n",
    "seed = 1\n",
    "\n",
    "\n",
    "\n",
    "\n",
    "###\n",
    "### 1. Define inputs used in di.\n",
    "###\n",
    "\n",
    "# Computation settings\n",
    "di.setBackend('torch')\n",
    "\n",
    "s0 = di.variable(s0_value, 'input','s0')\n",
    "K = di.variable(K_value, 'input','B')\n",
    "r = di.variable(r_value, 'input','r')\n",
    "sigma = di.variable(sigma_value, 'input','sigma')\n",
    "dt = di.variable(dt_value, 'constant','dt')\n",
    "u = di.variable(u_value, 'randomVariable','u')\n",
    "z = di.variable(z_value, 'randomVariableNormal','z')\n",
    "\n",
    "###\n",
    "### 2. Record Tape: Standard Monte Carlo\n",
    "###\n",
    "\n",
    "# Test phase\n",
    "#di.seed(seed)\n",
    "\n",
    "times = []\n",
    "test_iterations = 100\n",
    "for _ in range(test_iterations):\n",
    "    # Start time\n",
    "    tic = time.time()\n",
    "\n",
    "    # I'd want to have z = di.normal(....), it should just call z.NewSample(N)...\n",
    "    z.NewSample(N) # torch.normal(mean=0, std=1, size=(1,sampleSize))\n",
    "\n",
    "    s = s0 * di.exp((r - sigma **2 / 2) * dt + sigma * di.sqrt(dt) * z)\n",
    "    payoff =  di.if_(s > K, s - K, 0)\n",
    "\n",
    "    PV_standard = di.exp(-r * dt) * di.sum(payoff) / N\n",
    "\n",
    "    ## Result and Delta\n",
    "    result_standard = PV_standard.eval()\n",
    "    delta_standard = PV_standard.grad(s0)\n",
    "\n",
    "    #Stop time\n",
    "    toc = time.time()\n",
    "    spent = toc - tic\n",
    "    times.append(spent)\n",
    "\n",
    "mean_time = sum(times) / test_iterations\n",
    "print('spent: ', mean_time)\n",
    "print('Standard MC result:', result_standard)\n",
    "print('Delta approximation:', delta_standard)\n",
    "\n",
    "\n",
    "## Performance Studies\n",
    "print(f\"Performance test of standard: \")\n",
    "PV_standard.DoPerformanceTest(s0)"
   ]
  }
 ],
 "metadata": {
  "kernelspec": {
   "display_name": "Python 3",
   "language": "python",
   "name": "python3"
  },
  "language_info": {
   "codemirror_mode": {
    "name": "ipython",
    "version": 3
   },
   "file_extension": ".py",
   "mimetype": "text/x-python",
   "name": "python",
   "nbconvert_exporter": "python",
   "pygments_lexer": "ipython3",
   "version": "3.10.11"
  }
 },
 "nbformat": 4,
 "nbformat_minor": 2
}
