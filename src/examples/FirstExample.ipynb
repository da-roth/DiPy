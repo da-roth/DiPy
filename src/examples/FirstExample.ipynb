{
 "cells": [
  {
   "cell_type": "code",
   "execution_count": 1,
   "metadata": {},
   "outputs": [
    {
     "name": "stdout",
     "output_type": "stream",
     "text": [
      "11.069162135812496\n"
     ]
    }
   ],
   "source": [
    "import numpy as np\n",
    "\n",
    "x = 1.7\n",
    "a = np.sqrt(2)\n",
    "\n",
    "y = np.exp(x * a)\n",
    "print(y)"
   ]
  },
  {
   "cell_type": "code",
   "execution_count": 2,
   "metadata": {},
   "outputs": [],
   "source": [
    "import os\n",
    "os.getcwd()  # Check the current working directory\n",
    "\n",
    "# # Step 3: Add the parent directory to the sys.path\n",
    "import sys\n",
    "sys.path.append(os.path.abspath(os.path.join(os.getcwd(), '..')))\n",
    "\n",
    "# Step 4: Import the class from the module in the dipy directory\n"
   ]
  },
  {
   "cell_type": "code",
   "execution_count": 3,
   "metadata": {},
   "outputs": [
    {
     "ename": "AttributeError",
     "evalue": "'ExpNodeNumpy' object has no attribute 'grad'",
     "output_type": "error",
     "traceback": [
      "\u001b[1;31m---------------------------------------------------------------------------\u001b[0m",
      "\u001b[1;31mAttributeError\u001b[0m                            Traceback (most recent call last)",
      "Cell \u001b[1;32mIn [3], line 10\u001b[0m\n\u001b[0;32m      7\u001b[0m y \u001b[38;5;241m=\u001b[39m di\u001b[38;5;241m.\u001b[39mexp(x \u001b[38;5;241m*\u001b[39m a)\n\u001b[0;32m      9\u001b[0m result \u001b[38;5;241m=\u001b[39m y\u001b[38;5;241m.\u001b[39meval()\n\u001b[1;32m---> 10\u001b[0m derivative \u001b[38;5;241m=\u001b[39m \u001b[43my\u001b[49m\u001b[38;5;241;43m.\u001b[39;49m\u001b[43mgrad\u001b[49m(x)\n\u001b[0;32m     12\u001b[0m \u001b[38;5;28mprint\u001b[39m(\u001b[38;5;124m\"\u001b[39m\u001b[38;5;132;01m{:<12}\u001b[39;00m\u001b[38;5;124m \u001b[39m\u001b[38;5;132;01m{:<12}\u001b[39;00m\u001b[38;5;124m \u001b[39m\u001b[38;5;132;01m{:<12}\u001b[39;00m\u001b[38;5;124m\"\u001b[39m\u001b[38;5;241m.\u001b[39mformat(\u001b[38;5;124m'\u001b[39m\u001b[38;5;124mBackend\u001b[39m\u001b[38;5;124m'\u001b[39m, \u001b[38;5;124m'\u001b[39m\u001b[38;5;124mResult\u001b[39m\u001b[38;5;124m'\u001b[39m, \u001b[38;5;124m'\u001b[39m\u001b[38;5;124mGradient\u001b[39m\u001b[38;5;124m'\u001b[39m))\n\u001b[0;32m     13\u001b[0m \u001b[38;5;28mprint\u001b[39m(\u001b[38;5;124m\"\u001b[39m\u001b[38;5;132;01m{:<12}\u001b[39;00m\u001b[38;5;124m \u001b[39m\u001b[38;5;132;01m{:<12.6f}\u001b[39;00m\u001b[38;5;124m \u001b[39m\u001b[38;5;132;01m{:<12.6f}\u001b[39;00m\u001b[38;5;124m\"\u001b[39m\u001b[38;5;241m.\u001b[39mformat(\u001b[38;5;124m\"\u001b[39m\u001b[38;5;124mnumpy\u001b[39m\u001b[38;5;124m\"\u001b[39m, result, derivative))\n",
      "\u001b[1;31mAttributeError\u001b[0m: 'ExpNodeNumpy' object has no attribute 'grad'"
     ]
    }
   ],
   "source": [
    "import dipy.dipy as di\n",
    "\n",
    "x_value = 1.7\n",
    "x= di.variable(x_value)\n",
    "a = np.sqrt(2)\n",
    "\n",
    "y = di.exp(x * a)\n",
    "\n",
    "result = y.eval()\n",
    "derivative = y.grad(x)\n",
    "\n",
    "print(\"{:<12} {:<12} {:<12}\".format('Backend', 'Result', 'Gradient'))\n",
    "print(\"{:<12} {:<12.6f} {:<12.6f}\".format(\"numpy\", result, derivative))"
   ]
  },
  {
   "cell_type": "code",
   "execution_count": null,
   "metadata": {},
   "outputs": [
    {
     "name": "stdout",
     "output_type": "stream",
     "text": [
      "Backend      Result       Gradient    \n",
      "torch        11.069163    15.654160   \n"
     ]
    }
   ],
   "source": [
    "import dipy.dipy as di\n",
    "\n",
    "di.setBackend('torch')\n",
    "x_value = 1.7\n",
    "x= di.variable(x_value)\n",
    "a = np.sqrt(2)\n",
    "\n",
    "y = di.exp(x * a)\n",
    "\n",
    "result = y.Eval()\n",
    "derivative = y.Grad(x)\n",
    "\n",
    "print(\"{:<12} {:<12} {:<12}\".format('Backend', 'Result', 'Gradient'))\n",
    "print(\"{:<12} {:<12.6f} {:<12.6f}\".format(\"torch\", result, derivative))"
   ]
  },
  {
   "cell_type": "code",
   "execution_count": null,
   "metadata": {},
   "outputs": [
    {
     "name": "stdout",
     "output_type": "stream",
     "text": [
      "Backend      Result       Gradient    \n",
      "numpy        11.069162    15.654270   \n",
      "torch        11.069163    15.654160   \n",
      "tensorflow   11.069163    15.654160   \n",
      "jax          11.069162    nan         \n"
     ]
    }
   ],
   "source": [
    "import dipy.dipy as di\n",
    "import numpy as np\n",
    "\n",
    "backend_array = ['numpy', 'torch', 'tensorflow', 'jax']\n",
    "print(\"{:<12} {:<12} {:<12}\".format('Backend', 'Result', 'Gradient'))\n",
    "\n",
    "for backend in backend_array:\n",
    "    di.setBackend(backend)\n",
    "\n",
    "    x_value = 1.7\n",
    "    x = di.variable(x_value)\n",
    "    a = np.sqrt(2)\n",
    "    y = di.exp(x * a)\n",
    "    \n",
    "    result = y.Eval()\n",
    "    derivative = y.Grad(x)\n",
    "\n",
    "    print(\"{:<12} {:<12.6f} {:<12.6f}\".format(backend, result, derivative))\n"
   ]
  }
 ],
 "metadata": {
  "kernelspec": {
   "display_name": "Python 3",
   "language": "python",
   "name": "python3"
  },
  "language_info": {
   "codemirror_mode": {
    "name": "ipython",
    "version": 3
   },
   "file_extension": ".py",
   "mimetype": "text/x-python",
   "name": "python",
   "nbconvert_exporter": "python",
   "pygments_lexer": "ipython3",
   "version": "3.10.11"
  }
 },
 "nbformat": 4,
 "nbformat_minor": 2
}
