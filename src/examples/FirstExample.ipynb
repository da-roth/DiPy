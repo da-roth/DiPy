{
 "cells": [
  {
   "cell_type": "code",
   "execution_count": 1,
   "metadata": {},
   "outputs": [
    {
     "name": "stdout",
     "output_type": "stream",
     "text": [
      "Backend      Result       \n",
      "numpy        11.069162    \n"
     ]
    }
   ],
   "source": [
    "import numpy as np\n",
    "\n",
    "x = 1.7\n",
    "a = np.sqrt(2)\n",
    "\n",
    "y = np.exp(x * a)\n",
    "\n",
    "print(\"{:<12} {:<12} \".format('Backend', 'Result'))\n",
    "print(\"{:<12} {:<12.6f} \".format(\"numpy\", y))"
   ]
  },
  {
   "cell_type": "code",
   "execution_count": 2,
   "metadata": {},
   "outputs": [],
   "source": [
    "import os\n",
    "os.getcwd()  # Check the current working directory\n",
    "\n",
    "# # Step 3: Add the parent directory to the sys.path\n",
    "import sys\n",
    "sys.path.append(os.path.abspath(os.path.join(os.getcwd(), '..')))\n",
    "\n",
    "# Step 4: Import the class from the module in the dipy directory\n"
   ]
  },
  {
   "cell_type": "code",
   "execution_count": 3,
   "metadata": {},
   "outputs": [
    {
     "name": "stdout",
     "output_type": "stream",
     "text": [
      "Backend      Result       Gradient    \n",
      "numpy        11.069162    15.654270   \n"
     ]
    }
   ],
   "source": [
    "import dipy.dipy as di\n",
    "\n",
    "x_value = 1.7\n",
    "x= di.variable(x_value)\n",
    "a = np.sqrt(2)\n",
    "\n",
    "y = di.exp(x * a)\n",
    "\n",
    "result = y.eval()\n",
    "derivative = y.grad(x)\n",
    "\n",
    "print(\"{:<12} {:<12} {:<12}\".format('Backend', 'Result', 'Gradient'))\n",
    "print(\"{:<12} {:<12.6f} {:<12.6f}\".format(\"numpy\", result, derivative))"
   ]
  },
  {
   "cell_type": "code",
   "execution_count": 4,
   "metadata": {},
   "outputs": [
    {
     "name": "stdout",
     "output_type": "stream",
     "text": [
      "Backend      Result       Gradient    \n",
      "torch        11.069163    15.654160   \n"
     ]
    }
   ],
   "source": [
    "import dipy.dipy as di\n",
    "\n",
    "di.setBackend('torch')\n",
    "x_value = 1.7\n",
    "x= di.variable(x_value)\n",
    "a = np.sqrt(2)\n",
    "\n",
    "y = di.exp(x * a)\n",
    "\n",
    "result = y.eval()\n",
    "derivative = y.grad(x)\n",
    "\n",
    "print(\"{:<12} {:<12} {:<12}\".format('Backend', 'Result', 'Gradient'))\n",
    "print(\"{:<12} {:<12.6f} {:<12.6f}\".format(\"torch\", result, derivative))"
   ]
  },
  {
   "cell_type": "code",
   "execution_count": 5,
   "metadata": {},
   "outputs": [
    {
     "name": "stdout",
     "output_type": "stream",
     "text": [
      "Backend      Result       Gradient    \n",
      "numpy        11.069162    15.654270   \n",
      "torch        11.069163    15.654160   \n",
      "tensorflow   11.069163    15.654160   \n",
      "jax          11.069162    15.654160   \n"
     ]
    }
   ],
   "source": [
    "import dipy.dipy as di\n",
    "import numpy as np\n",
    "\n",
    "backend_array = ['numpy', 'torch', 'tensorflow', 'jax']\n",
    "print(\"{:<12} {:<12} {:<12}\".format('Backend', 'Result', 'Gradient'))\n",
    "\n",
    "for backend in backend_array:\n",
    "    di.setBackend(backend)\n",
    "\n",
    "    x_value = 1.7\n",
    "    x = di.variable(x_value)\n",
    "    a = np.sqrt(2)\n",
    "    y = di.exp(x * a)\n",
    "    \n",
    "    result = y.eval()\n",
    "    derivative = y.grad(x)\n",
    "\n",
    "    print(\"{:<12} {:<12.6f} {:<12.6f}\".format(backend, result, derivative))\n"
   ]
  },
  {
   "cell_type": "code",
   "execution_count": 6,
   "metadata": {},
   "outputs": [
    {
     "name": "stdout",
     "output_type": "stream",
     "text": [
      "((exp((x * 1.4142135623730951)) + sin(y)) + 1.4142135623730951)\n",
      "['y', 'x']\n",
      "Generated Function Code:\n",
      "def myfunc(y, x):\n",
      "    return ((torch.exp((x * 1.4142135623730951)) + sin(y)) + 1.4142135623730951)\n",
      "\n"
     ]
    },
    {
     "ename": "NameError",
     "evalue": "name 'sin' is not defined",
     "output_type": "error",
     "traceback": [
      "\u001b[1;31m---------------------------------------------------------------------------\u001b[0m",
      "\u001b[1;31mNameError\u001b[0m                                 Traceback (most recent call last)",
      "Cell \u001b[1;32mIn [6], line 18\u001b[0m\n\u001b[0;32m     14\u001b[0m \u001b[38;5;28mprint\u001b[39m(z\u001b[38;5;241m.\u001b[39mget_input_variables())\n\u001b[0;32m     16\u001b[0m myfunc \u001b[38;5;241m=\u001b[39m z\u001b[38;5;241m.\u001b[39mget_optimized_executable()\n\u001b[1;32m---> 18\u001b[0m resulttest \u001b[38;5;241m=\u001b[39m \u001b[43mmyfunc\u001b[49m\u001b[43m(\u001b[49m\u001b[43mtorch\u001b[49m\u001b[38;5;241;43m.\u001b[39;49m\u001b[43mtensor\u001b[49m\u001b[43m(\u001b[49m\u001b[43mx\u001b[49m\u001b[38;5;241;43m.\u001b[39;49m\u001b[43mvalue\u001b[49m\u001b[43m)\u001b[49m\u001b[43m,\u001b[49m\u001b[43m \u001b[49m\u001b[43mtorch\u001b[49m\u001b[38;5;241;43m.\u001b[39;49m\u001b[43mtensor\u001b[49m\u001b[43m(\u001b[49m\u001b[43my\u001b[49m\u001b[38;5;241;43m.\u001b[39;49m\u001b[43mvalue\u001b[49m\u001b[43m)\u001b[49m\u001b[43m)\u001b[49m\n\u001b[0;32m     19\u001b[0m \u001b[38;5;28mprint\u001b[39m(resulttest)\n",
      "File \u001b[1;32m<string>:2\u001b[0m, in \u001b[0;36mmyfunc\u001b[1;34m(y, x)\u001b[0m\n",
      "\u001b[1;31mNameError\u001b[0m: name 'sin' is not defined"
     ]
    }
   ],
   "source": [
    "import dipy.dipy as di\n",
    "import torch\n",
    "\n",
    "di.setBackend('torch')\n",
    "x_value = 1.7\n",
    "y_value = 2.0\n",
    "x= di.variable(x_value, 'input', 'x')\n",
    "y= di.variable(y_value, 'input', 'y')\n",
    "a = np.sqrt(2)\n",
    "\n",
    "z = di.exp(x * a) + di.sin(y) + a\n",
    "\n",
    "print(z)\n",
    "print(z.get_input_variables())\n",
    "\n",
    "myfunc = z.get_optimized_executable()\n",
    "\n",
    "resulttest = myfunc(torch.tensor(x.value), torch.tensor(y.value))\n",
    "print(resulttest)"
   ]
  },
  {
   "cell_type": "code",
   "execution_count": null,
   "metadata": {},
   "outputs": [
    {
     "ename": "NameError",
     "evalue": "name 'sin' is not defined",
     "output_type": "error",
     "traceback": [
      "\u001b[1;31m---------------------------------------------------------------------------\u001b[0m",
      "\u001b[1;31mNameError\u001b[0m                                 Traceback (most recent call last)",
      "Cell \u001b[1;32mIn [7], line 1\u001b[0m\n\u001b[1;32m----> 1\u001b[0m resulttest \u001b[38;5;241m=\u001b[39m \u001b[43mmyfunc\u001b[49m\u001b[43m(\u001b[49m\u001b[43mtorch\u001b[49m\u001b[38;5;241;43m.\u001b[39;49m\u001b[43mtensor\u001b[49m\u001b[43m(\u001b[49m\u001b[43mx\u001b[49m\u001b[38;5;241;43m.\u001b[39;49m\u001b[43mvalue\u001b[49m\u001b[43m)\u001b[49m\u001b[43m,\u001b[49m\u001b[43m \u001b[49m\u001b[43mtorch\u001b[49m\u001b[38;5;241;43m.\u001b[39;49m\u001b[43mtensor\u001b[49m\u001b[43m(\u001b[49m\u001b[43my\u001b[49m\u001b[38;5;241;43m.\u001b[39;49m\u001b[43mvalue\u001b[49m\u001b[43m)\u001b[49m\u001b[43m)\u001b[49m\n\u001b[0;32m      2\u001b[0m \u001b[38;5;28mprint\u001b[39m(resulttest)\n\u001b[0;32m      3\u001b[0m resulttest \u001b[38;5;241m=\u001b[39m myfunc(torch\u001b[38;5;241m.\u001b[39mtensor(y\u001b[38;5;241m.\u001b[39mvalue), torch\u001b[38;5;241m.\u001b[39mtensor(x\u001b[38;5;241m.\u001b[39mvalue))\n",
      "File \u001b[1;32m<string>:2\u001b[0m, in \u001b[0;36mmyfunc\u001b[1;34m(x, y)\u001b[0m\n",
      "\u001b[1;31mNameError\u001b[0m: name 'sin' is not defined"
     ]
    }
   ],
   "source": [
    "resulttest = myfunc(torch.tensor(x.value), torch.tensor(y.value))\n",
    "print(resulttest)\n",
    "resulttest = myfunc(torch.tensor(y.value), torch.tensor(x.value))\n",
    "print(resulttest)"
   ]
  },
  {
   "cell_type": "code",
   "execution_count": null,
   "metadata": {},
   "outputs": [
    {
     "ename": "NameError",
     "evalue": "name 'np' is not defined",
     "output_type": "error",
     "traceback": [
      "\u001b[1;31m---------------------------------------------------------------------------\u001b[0m",
      "\u001b[1;31mNameError\u001b[0m                                 Traceback (most recent call last)",
      "Cell \u001b[1;32mIn [46], line 23\u001b[0m\n\u001b[0;32m     20\u001b[0m myfunc \u001b[38;5;241m=\u001b[39m create_function_from_expression(expression_string, expression_inputs, \u001b[38;5;124m'\u001b[39m\u001b[38;5;124mnp\u001b[39m\u001b[38;5;124m'\u001b[39m)\n\u001b[0;32m     22\u001b[0m \u001b[38;5;66;03m# Test the created function\u001b[39;00m\n\u001b[1;32m---> 23\u001b[0m \u001b[38;5;28mprint\u001b[39m(\u001b[43mmyfunc\u001b[49m\u001b[43m(\u001b[49m\u001b[38;5;241;43m1\u001b[39;49m\u001b[43m,\u001b[49m\u001b[43m \u001b[49m\u001b[38;5;241;43m1\u001b[39;49m\u001b[43m)\u001b[49m)  \u001b[38;5;66;03m# Example test call\u001b[39;00m\n",
      "File \u001b[1;32m<string>:2\u001b[0m, in \u001b[0;36mmyfunc\u001b[1;34m(x, y)\u001b[0m\n",
      "\u001b[1;31mNameError\u001b[0m: name 'np' is not defined"
     ]
    }
   ],
   "source": [
    "import numpy as np\n",
    "def create_function_from_expression(expression_string, expression_inputs, backend):\n",
    "    # Generate the function definition as a string\n",
    "    inputs = \", \".join(expression_inputs) \n",
    "    function_code = f\"def myfunc({inputs}):\\n    return {expression_string}\\n\"\n",
    "    \n",
    "    # Compile the function code\n",
    "    compiled_code = compile(function_code, \"<string>\", \"exec\")\n",
    "    \n",
    "    # Create a namespace and execute the compiled code in this namespace\n",
    "    namespace = {}\n",
    "    exec(compiled_code, namespace)\n",
    "    \n",
    "    # Return the dynamically created function\n",
    "    return namespace[\"myfunc\"]\n",
    "\n",
    "# Example usage\n",
    "expression_string = \"((np.exp((x * 1.4142135623730951)) + np.sin(y)) + 1.4142135623730951)\"\n",
    "expression_inputs = ['x', 'y']\n",
    "myfunc = create_function_from_expression(expression_string, expression_inputs, 'np')\n",
    "\n",
    "# Test the created function\n",
    "print(myfunc(1, 1))  # Example test call\n"
   ]
  },
  {
   "cell_type": "code",
   "execution_count": null,
   "metadata": {},
   "outputs": [],
   "source": [
    "\n",
    "def create_function_from_graph(graph):\n",
    "    function_body = \"\"\n",
    "    if isinstance(graph, AddNode):\n",
    "        function_body = f\"z = {graph.left_node.Run()} + {graph.right_node.Run()}\\n\"\n",
    "    \n",
    "    function_code = f\"def myfunc(x, y, torch):\\n    {function_body}    return z\"\n",
    "    function = compile(function_code, \"<string>\", \"exec\")\n",
    "    namespace = {}\n",
    "    exec(function, namespace)\n",
    "\n",
    "    return namespace[\"myfunc\"]"
   ]
  }
 ],
 "metadata": {
  "kernelspec": {
   "display_name": "Python 3",
   "language": "python",
   "name": "python3"
  },
  "language_info": {
   "codemirror_mode": {
    "name": "ipython",
    "version": 3
   },
   "file_extension": ".py",
   "mimetype": "text/x-python",
   "name": "python",
   "nbconvert_exporter": "python",
   "pygments_lexer": "ipython3",
   "version": "3.10.11"
  }
 },
 "nbformat": 4,
 "nbformat_minor": 2
}
