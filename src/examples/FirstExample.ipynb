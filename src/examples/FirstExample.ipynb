{
 "cells": [
  {
   "cell_type": "code",
   "execution_count": 1,
   "metadata": {},
   "outputs": [
    {
     "name": "stdout",
     "output_type": "stream",
     "text": [
      "Backend      Result       \n",
      "numpy        11.069162    \n"
     ]
    }
   ],
   "source": [
    "import numpy as np\n",
    "\n",
    "x = 1.7\n",
    "a = np.sqrt(2)\n",
    "\n",
    "y = np.exp(x * a)\n",
    "\n",
    "print(\"{:<12} {:<12} \".format('Backend', 'Result'))\n",
    "print(\"{:<12} {:<12.6f} \".format(\"numpy\", y))"
   ]
  },
  {
   "cell_type": "code",
   "execution_count": 2,
   "metadata": {},
   "outputs": [],
   "source": [
    "import os\n",
    "os.getcwd()  # Check the current working directory\n",
    "\n",
    "# # Step 3: Add the parent directory to the sys.path\n",
    "import sys\n",
    "sys.path.append(os.path.abspath(os.path.join(os.getcwd(), '..')))\n",
    "\n",
    "# Step 4: Import the class from the module in the dipy directory\n"
   ]
  },
  {
   "cell_type": "code",
   "execution_count": 3,
   "metadata": {},
   "outputs": [
    {
     "name": "stdout",
     "output_type": "stream",
     "text": [
      "Backend      Result       Gradient    \n",
      "numpy        11.069162    15.654270   \n"
     ]
    }
   ],
   "source": [
    "import dipy.dipy as di\n",
    "\n",
    "x_value = 1.7\n",
    "x= di.variable(x_value)\n",
    "a = np.sqrt(2)\n",
    "\n",
    "y = di.exp(x * a)\n",
    "\n",
    "result = y.eval()\n",
    "derivative = y.grad(x)\n",
    "\n",
    "print(\"{:<12} {:<12} {:<12}\".format('Backend', 'Result', 'Gradient'))\n",
    "print(\"{:<12} {:<12.6f} {:<12.6f}\".format(\"numpy\", result, derivative))"
   ]
  },
  {
   "cell_type": "code",
   "execution_count": 4,
   "metadata": {},
   "outputs": [
    {
     "name": "stdout",
     "output_type": "stream",
     "text": [
      "Backend      Result       Gradient    \n",
      "torch        11.069163    15.654160   \n"
     ]
    }
   ],
   "source": [
    "import dipy.dipy as di\n",
    "\n",
    "di.setBackend('torch')\n",
    "x_value = 1.7\n",
    "x= di.variable(x_value)\n",
    "a = np.sqrt(2)\n",
    "\n",
    "y = di.exp(x * a)\n",
    "\n",
    "result = y.eval()\n",
    "derivative = y.grad(x)\n",
    "\n",
    "print(\"{:<12} {:<12} {:<12}\".format('Backend', 'Result', 'Gradient'))\n",
    "print(\"{:<12} {:<12.6f} {:<12.6f}\".format(\"torch\", result, derivative))"
   ]
  },
  {
   "cell_type": "code",
   "execution_count": 5,
   "metadata": {},
   "outputs": [
    {
     "name": "stdout",
     "output_type": "stream",
     "text": [
      "Backend      Result       Gradient    \n",
      "numpy        11.069162    15.654270   \n",
      "torch        11.069163    15.654160   \n",
      "tensorflow   11.069163    15.654160   \n",
      "jax          11.069162    15.654160   \n"
     ]
    }
   ],
   "source": [
    "import dipy.dipy as di\n",
    "import numpy as np\n",
    "\n",
    "backend_array = ['numpy', 'torch', 'tensorflow', 'jax']\n",
    "print(\"{:<12} {:<12} {:<12}\".format('Backend', 'Result', 'Gradient'))\n",
    "\n",
    "for backend in backend_array:\n",
    "    di.setBackend(backend)\n",
    "\n",
    "    x_value = 1.7\n",
    "    x = di.variable(x_value)\n",
    "    a = np.sqrt(2)\n",
    "    y = di.exp(x * a)\n",
    "    \n",
    "    result = y.eval()\n",
    "    derivative = y.grad(x)\n",
    "\n",
    "    print(\"{:<12} {:<12.6f} {:<12.6f}\".format(backend, result, derivative))\n"
   ]
  },
  {
   "cell_type": "code",
   "execution_count": 23,
   "metadata": {},
   "outputs": [
    {
     "name": "stdout",
     "output_type": "stream",
     "text": [
      "Generated Function Code:\n",
      "def myfunc(Input8):\n",
      "    return torch.exp((Input8 * 1.4142135623730951))\n",
      "\n",
      "tensor(11.0692)\n"
     ]
    }
   ],
   "source": [
    "import dipy.dipy as di\n",
    "import torch\n",
    "\n",
    "di.setBackend('torch')\n",
    "\n",
    "x_value = 1.7\n",
    "x = di.variable(x_value)\n",
    "a = np.sqrt(2)\n",
    "y = di.exp(x * a)\n",
    "\n",
    "myfunc = y.get_optimized_executable()\n",
    "\n",
    "resulttest = myfunc(torch.tensor(x.value))\n",
    "print(resulttest)"
   ]
  }
 ],
 "metadata": {
  "kernelspec": {
   "display_name": "Python 3",
   "language": "python",
   "name": "python3"
  },
  "language_info": {
   "codemirror_mode": {
    "name": "ipython",
    "version": 3
   },
   "file_extension": ".py",
   "mimetype": "text/x-python",
   "name": "python",
   "nbconvert_exporter": "python",
   "pygments_lexer": "ipython3",
   "version": "3.10.11"
  }
 },
 "nbformat": 4,
 "nbformat_minor": 2
}
