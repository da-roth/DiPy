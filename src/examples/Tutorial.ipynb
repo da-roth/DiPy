{
 "cells": [
  {
   "cell_type": "code",
   "execution_count": 1,
   "metadata": {},
   "outputs": [
    {
     "name": "stdout",
     "output_type": "stream",
     "text": [
      "0.0018686318397521972\n"
     ]
    }
   ],
   "source": [
    "##\n",
    "## Standard approach, just scripting it\n",
    "##\n",
    "\n",
    "import numpy as np\n",
    "import time\n",
    "\n",
    "from numba import njit\n",
    "\n",
    "\n",
    "s0 = 100\n",
    "r =0.05\n",
    "sigma = 0.3\n",
    "dt = 1.0\n",
    "K = 110\n",
    "z = 0.1\n",
    "\n",
    "N = 100000\n",
    "x = 100\n",
    "\n",
    "total_time = 0.0\n",
    "\n",
    "\n",
    "for i in range(x):\n",
    "    current_s0 = s0 + 0.0001 * i\n",
    "    start_time = time.time()\n",
    "\n",
    "    z = np.random.normal(0, 1, N)\n",
    "    s = s0 * np.exp((r - sigma **2 / 2) * dt + sigma * np.sqrt(dt) * z)\n",
    "    payoff = np.where(s > K, s - K, 0.0)\n",
    "    discounted_payoff = np.exp(-r * dt) * np.mean(payoff) \n",
    "\n",
    "    end_time = time.time()\n",
    "    total_time += (end_time - start_time)\n",
    "\n",
    "average_runtime = total_time / x\n",
    "print(average_runtime)"
   ]
  },
  {
   "cell_type": "code",
   "execution_count": 2,
   "metadata": {},
   "outputs": [
    {
     "name": "stdout",
     "output_type": "stream",
     "text": [
      "0.0021969890594482422\n"
     ]
    }
   ],
   "source": [
    "##\n",
    "## Putting it in a form that calls a method\n",
    "##\n",
    "\n",
    "\n",
    "import numpy as np\n",
    "import time\n",
    "from numba import jit\n",
    "\n",
    "s0 = 100\n",
    "r = 0.05\n",
    "sigma = 0.3\n",
    "dt = 1.0\n",
    "K = 110\n",
    "z = 0.1\n",
    "\n",
    "N = 100000\n",
    "x = 100\n",
    "\n",
    "def payoff(s0, r, sigma, dt, K, N, z):\n",
    "    s = s0 * np.exp((r - sigma ** 2 / 2) * dt + sigma * np.sqrt(dt) * z)\n",
    "    return np.where(s > K, s - K, 0.0)\n",
    "\n",
    "total_time = 0.0\n",
    "\n",
    "\n",
    "for i in range(x):\n",
    "    \n",
    "    current_s0 = s0 + 0.0001 * i\n",
    "    start_time = time.time()\n",
    "    z_values = np.random.normal(0, 1, N)\n",
    "    average = np.exp(-r * dt) * np.mean(payoff(s0, r, sigma, dt, K, N, z_values)) \n",
    "    end_time = time.time()\n",
    "    total_time += (end_time - start_time)\n",
    "\n",
    "average_runtime = total_time / x\n",
    "print(average_runtime)\n"
   ]
  },
  {
   "cell_type": "code",
   "execution_count": 3,
   "metadata": {},
   "outputs": [
    {
     "name": "stdout",
     "output_type": "stream",
     "text": [
      "0.0014922070503234864\n"
     ]
    }
   ],
   "source": [
    "##\n",
    "## Having a form where jit speeds up\n",
    "##\n",
    "\n",
    "\n",
    "import numpy as np\n",
    "import time\n",
    "from numba import jit\n",
    "\n",
    "s0 = 100\n",
    "r = 0.05\n",
    "sigma = 0.3\n",
    "dt = 1.0\n",
    "K = 110\n",
    "z = 0.1\n",
    "\n",
    "N = 100000\n",
    "x = 100\n",
    "\n",
    "@jit\n",
    "def average_payoff(s0, r, sigma, dt, K, N, z):\n",
    "    total_payoff = 0.0\n",
    "    for _ in range(N):\n",
    "        s = s0 * np.exp((r - sigma ** 2 / 2) * dt + sigma * np.sqrt(dt) * z[_])\n",
    "        payoff = s - K if s > K else 0.0\n",
    "        total_payoff += payoff\n",
    "    return np.exp(-r * dt) * total_payoff / N\n",
    "\n",
    "# Jit test run\n",
    "z_values = np.random.normal(0, 1, N)\n",
    "test_run = average_payoff(s0, r, sigma, dt, K, N, z_values) #needed to do jit compilation before run\n",
    "\n",
    "total_time = 0.0\n",
    "\n",
    "for i in range(x):\n",
    "    current_s0 = s0 + 0.0001 * i\n",
    "    start_time = time.time()\n",
    "\n",
    "    z_values = np.random.normal(0, 1, N)\n",
    "    average = average_payoff(s0, r, sigma, dt, K, N, z_values)\n",
    "    \n",
    "    end_time = time.time()\n",
    "    total_time += (end_time - start_time)\n",
    "\n",
    "average_runtime = total_time / x\n",
    "print(average_runtime)\n"
   ]
  }
 ],
 "metadata": {
  "kernelspec": {
   "display_name": "Python 3",
   "language": "python",
   "name": "python3"
  },
  "language_info": {
   "codemirror_mode": {
    "name": "ipython",
    "version": 3
   },
   "file_extension": ".py",
   "mimetype": "text/x-python",
   "name": "python",
   "nbconvert_exporter": "python",
   "pygments_lexer": "ipython3",
   "version": "3.10.11"
  }
 },
 "nbformat": 4,
 "nbformat_minor": 2
}
