{
 "cells": [
  {
   "cell_type": "markdown",
   "id": "f058977c",
   "metadata": {},
   "source": [
    "<a href=\"https://colab.research.google.com/github/matlogica/AADC-Python/blob/main/getting-started/01-hello-world.ipynb\" target=\"_parent\"><img src=\"https://colab.research.google.com/assets/colab-badge.svg\" alt=\"Open In Colab\"/></a>"
   ]
  },
  {
   "cell_type": "markdown",
   "id": "908dd67a",
   "metadata": {},
   "source": [
    "# AADC basic \"Hello World\" example\n",
    "This example demonstrates how to use the AADC library to record a simple function and calculate its derivatives"
   ]
  },
  {
   "cell_type": "code",
   "execution_count": 20,
   "id": "cc93f60c-c87c-4b57-bbf2-5fda74847c45",
   "metadata": {},
   "outputs": [],
   "source": [
    "import sys"
   ]
  },
  {
   "cell_type": "markdown",
   "id": "9d9f0b76-7c97-4fdb-b869-7be9650e21e3",
   "metadata": {},
   "source": [
    "### Please uncomment next line if you don't have AADC installed locally"
   ]
  },
  {
   "cell_type": "code",
   "execution_count": 21,
   "id": "e28e92e3-8fc6-45d9-b5af-7659caa9f0c1",
   "metadata": {},
   "outputs": [],
   "source": [
    "#pip install https://matlogica.com/DemoReleases/aadc-1.7.5.27-cp3{sys.version_info.minor}-cp3{sys.version_info.minor}-linux_x86_64.whl"
   ]
  },
  {
   "cell_type": "code",
   "execution_count": 22,
   "id": "4d2988b1-4dea-4032-b2c6-864d1f35c67a",
   "metadata": {},
   "outputs": [],
   "source": [
    "import aadc\n",
    "import numpy as np"
   ]
  },
  {
   "cell_type": "markdown",
   "id": "3ab0d54e",
   "metadata": {},
   "source": [
    "# Simple function to record\n",
    "The function can take arbitrary input types and can be defined in external file"
   ]
  },
  {
   "cell_type": "code",
   "execution_count": 23,
   "id": "40bbfc28-b257-4efe-b2f5-a8f77c911eba",
   "metadata": {},
   "outputs": [],
   "source": [
    "def F(x,y,z):\n",
    "    return np.exp(x / y + z)"
   ]
  },
  {
   "cell_type": "markdown",
   "id": "13fa580c",
   "metadata": {},
   "source": [
    "# Object to hold recorded AADC Kernels\n",
    "allow to speed up the calculation of the function itself and AAD for its derivatives\n"
   ]
  },
  {
   "cell_type": "code",
   "execution_count": 24,
   "id": "f3b87119-b2a3-4dfb-b9cf-eebd4060d569",
   "metadata": {},
   "outputs": [],
   "source": [
    "funcs = aadc.Functions()"
   ]
  },
  {
   "cell_type": "markdown",
   "id": "04f729a8",
   "metadata": {},
   "source": [
    "# Define function arguments.\n",
    "Note you need to use aadc.idouble instead of float"
   ]
  },
  {
   "cell_type": "code",
   "execution_count": 25,
   "id": "5d39ca34-fb9b-40ed-b944-1cda7ff7f141",
   "metadata": {},
   "outputs": [],
   "source": [
    "x = aadc.idouble(1.0)\n",
    "y = aadc.idouble(2.0)\n",
    "z = aadc.idouble(3.0)"
   ]
  },
  {
   "cell_type": "markdown",
   "id": "333a1e2c",
   "metadata": {},
   "source": [
    "# Trigger recording of the function"
   ]
  },
  {
   "cell_type": "code",
   "execution_count": 26,
   "id": "3300d637-4725-4405-b9d5-d7eadd8cc8bc",
   "metadata": {},
   "outputs": [
    {
     "name": "stdout",
     "output_type": "stream",
     "text": [
      "You are using evaluation version of AADC. Expire date is 20240901\n"
     ]
    }
   ],
   "source": [
    "funcs.start_recording()"
   ]
  },
  {
   "cell_type": "markdown",
   "id": "99d411cb",
   "metadata": {},
   "source": [
    "# Mark the function arguments as input and save reference argument ids"
   ]
  },
  {
   "cell_type": "code",
   "execution_count": 27,
   "id": "d6cd2d27-abb4-4231-84e5-8865eabba328",
   "metadata": {},
   "outputs": [],
   "source": [
    "xArg = x.mark_as_input()\n",
    "yArg = y.mark_as_input()\n",
    "zArg = z.mark_as_input()"
   ]
  },
  {
   "cell_type": "markdown",
   "id": "a2f0bbed",
   "metadata": {},
   "source": [
    "# Call the function and add some operations"
   ]
  },
  {
   "cell_type": "code",
   "execution_count": 28,
   "id": "a6a70fbe-8cc7-4868-ae04-2a7121be6355",
   "metadata": {},
   "outputs": [],
   "source": [
    "f = F(x,y,z) + x"
   ]
  },
  {
   "cell_type": "markdown",
   "id": "4636cd88",
   "metadata": {},
   "source": [
    "# Mark the result as output"
   ]
  },
  {
   "cell_type": "code",
   "execution_count": 29,
   "id": "3a709740-8437-4dd3-b1ae-50a6f6fccec5",
   "metadata": {},
   "outputs": [],
   "source": [
    "fRes = f.mark_as_output()"
   ]
  },
  {
   "cell_type": "markdown",
   "id": "c7ea381f",
   "metadata": {},
   "source": [
    "# Stop recording\n",
    "After this step AADC Kernel containing native machine CPU code will be generated and stored in the funcs object"
   ]
  },
  {
   "cell_type": "code",
   "execution_count": 30,
   "id": "9020ad7b-0b31-4615-ac01-fdaca21f709a",
   "metadata": {},
   "outputs": [],
   "source": [
    "funcs.stop_recording()"
   ]
  },
  {
   "cell_type": "markdown",
   "id": "92f13bb3",
   "metadata": {},
   "source": [
    "# Check if the function is recorded properly\n",
    "So it can be used for arbitrary input values. This should return 0 if everything is OK, indicating that no branches in the function are not supported.\n"
   ]
  },
  {
   "cell_type": "code",
   "execution_count": 31,
   "id": "07f8caa2-2d3e-4acf-adc2-42a96f90fc08",
   "metadata": {},
   "outputs": [
    {
     "name": "stdout",
     "output_type": "stream",
     "text": [
      "Number active to passive conversions: "
     ]
    },
    {
     "data": {
      "text/plain": [
       "'Number active to passive conversions: 0 while recording Python\\n'"
      ]
     },
     "execution_count": 31,
     "metadata": {},
     "output_type": "execute_result"
    },
    {
     "name": "stdout",
     "output_type": "stream",
     "text": [
      "0 while recording Python\n"
     ]
    }
   ],
   "source": [
    "funcs.print_passive_extract_locations()"
   ]
  },
  {
   "cell_type": "markdown",
   "id": "6b85f15e",
   "metadata": {},
   "source": [
    "# New samples of input values\n",
    "To calculate the function and its derivatives at. Note that the x input is a vector of 20 samples and the y and z are scalars"
   ]
  },
  {
   "cell_type": "code",
   "execution_count": 32,
   "id": "56f45689-ef0c-4f60-87d4-2f31030670bd",
   "metadata": {},
   "outputs": [],
   "source": [
    "inputs = {\n",
    "    xArg:(1.0 * np.random.normal(1, 0.2, 20)),\n",
    "    yArg:(2.0),\n",
    "    zArg:(3.0),\n",
    "}"
   ]
  },
  {
   "cell_type": "markdown",
   "id": "f60bc787",
   "metadata": {},
   "source": [
    "Key: what output, value: what gradients are needed"
   ]
  },
  {
   "cell_type": "code",
   "execution_count": 33,
   "id": "a4fe2659-9ea2-49ba-ab97-c1282ae30e9c",
   "metadata": {},
   "outputs": [],
   "source": [
    "request = {fRes:[xArg,yArg,zArg]}  "
   ]
  },
  {
   "cell_type": "markdown",
   "id": "b3c87901",
   "metadata": {},
   "source": [
    "Run AADC Kernel for array inputs using 4 CPU threads and avx2"
   ]
  },
  {
   "cell_type": "code",
   "execution_count": 34,
   "id": "e7afc718-1ba6-4bd5-a96d-a05d88802c8f",
   "metadata": {},
   "outputs": [],
   "source": [
    "Res = aadc.evaluate(funcs, request, inputs, aadc.ThreadPool(4))"
   ]
  },
  {
   "cell_type": "markdown",
   "id": "b3ab6f97",
   "metadata": {},
   "source": [
    "## Function output"
   ]
  },
  {
   "cell_type": "code",
   "execution_count": 38,
   "id": "00ef0d56-99f7-4bb1-b38c-72c410b99123",
   "metadata": {},
   "outputs": [
    {
     "data": {
      "text/plain": [
       "array([32.10395476, 34.83481649, 40.6722964 , 41.2480603 , 35.94731013,\n",
       "       39.0797347 , 35.44086099, 35.21160137, 32.0147729 , 30.89374544,\n",
       "       32.75031696, 35.24848732, 38.24760169, 40.82728994, 29.13668977,\n",
       "       31.65707208, 35.65670017, 41.72080241, 34.09176272, 28.74009506])"
      ]
     },
     "execution_count": 38,
     "metadata": {},
     "output_type": "execute_result"
    }
   ],
   "source": [
    "Res[0][fRes]"
   ]
  },
  {
   "cell_type": "markdown",
   "id": "094a7d9b",
   "metadata": {},
   "source": [
    "## df/dx"
   ]
  },
  {
   "cell_type": "code",
   "execution_count": 36,
   "id": "dafa8ec7-cd5c-40a5-b8e6-25c32e398907",
   "metadata": {},
   "outputs": [
    {
     "data": {
      "text/plain": [
       "array([16.61086317, 17.89711799, 20.66420123, 20.93824331, 18.42273209,\n",
       "       19.9071785 , 18.18334284, 18.07503599, 16.56896007, 16.04282444,\n",
       "       16.91476406, 18.0924591 , 19.51222248, 20.73795439, 15.22051226,\n",
       "       16.40095908, 18.28534394, 21.16338566, 17.54655619, 15.03532312])"
      ]
     },
     "execution_count": 36,
     "metadata": {},
     "output_type": "execute_result"
    }
   ],
   "source": [
    "Res[1][fRes][xArg]"
   ]
  },
  {
   "cell_type": "markdown",
   "id": "a128854c",
   "metadata": {},
   "source": [
    "## df/dy"
   ]
  },
  {
   "cell_type": "code",
   "execution_count": 37,
   "id": "f84ae8e2-3d5b-4ecf-9a3e-f42151cab1aa",
   "metadata": {},
   "outputs": [
    {
     "data": {
      "text/plain": [
       "array([ -6.88617357,  -8.79140582, -13.21330038, -13.67338492,\n",
       "        -9.59858341, -11.96236094,  -9.22896132,  -9.06282625,\n",
       "        -6.82584271,  -6.0780273 ,  -7.32706851,  -9.08950582,\n",
       "       -11.32167483, -13.33674988,  -4.94635815,  -6.58509535,\n",
       "        -9.38604809, -14.05419332,  -8.26211207,  -4.69796528])"
      ]
     },
     "execution_count": 37,
     "metadata": {},
     "output_type": "execute_result"
    }
   ],
   "source": [
    "Res[1][fRes][yArg]\n"
   ]
  }
 ],
 "metadata": {
  "kernelspec": {
   "display_name": "Python 3 (ipykernel)",
   "language": "python",
   "name": "python3"
  },
  "language_info": {
   "codemirror_mode": {
    "name": "ipython",
    "version": 3
   },
   "file_extension": ".py",
   "mimetype": "text/x-python",
   "name": "python",
   "nbconvert_exporter": "python",
   "pygments_lexer": "ipython3",
   "version": "3.9.16"
  }
 },
 "nbformat": 4,
 "nbformat_minor": 5
}
