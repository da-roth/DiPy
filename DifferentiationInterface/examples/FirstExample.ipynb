{
 "cells": [
  {
   "cell_type": "code",
   "execution_count": 1,
   "metadata": {},
   "outputs": [
    {
     "name": "stdout",
     "output_type": "stream",
     "text": [
      "Backend      Result       \n",
      "numpy        11.069162    \n"
     ]
    }
   ],
   "source": [
    "import numpy as np\n",
    "\n",
    "x = 1.7\n",
    "a = np.sqrt(2)\n",
    "\n",
    "y = np.exp(x * a)\n",
    "\n",
    "print(\"{:<12} {:<12} \".format('Backend', 'Result'))\n",
    "print(\"{:<12} {:<12.6f} \".format(\"numpy\", y))"
   ]
  },
  {
   "cell_type": "code",
   "execution_count": 2,
   "metadata": {},
   "outputs": [],
   "source": [
    "import os\n",
    "import sys\n",
    "\n",
    "os.getcwd()  # Check the current working directory\n",
    "sys.path.append(os.path.abspath(os.path.join(os.getcwd(), '..')))\n",
    "\n",
    "import src.dipy.dipy as di"
   ]
  },
  {
   "cell_type": "code",
   "execution_count": 3,
   "metadata": {},
   "outputs": [
    {
     "name": "stdout",
     "output_type": "stream",
     "text": [
      "Backend      Result       Gradient    \n",
      "numpy        11.069162    15.654270   \n"
     ]
    }
   ],
   "source": [
    "x_value = 1.7\n",
    "x= di.variable(x_value)\n",
    "a = np.sqrt(2)\n",
    "\n",
    "y = di.exp(x * a)\n",
    "\n",
    "result = y.eval()\n",
    "derivative = y.grad(x)\n",
    "\n",
    "print(\"{:<12} {:<12} {:<12}\".format('Backend', 'Result', 'Gradient'))\n",
    "print(\"{:<12} {:<12.6f} {:<12.6f}\".format(\"numpy\", result, derivative))"
   ]
  },
  {
   "cell_type": "code",
   "execution_count": 4,
   "metadata": {},
   "outputs": [
    {
     "name": "stdout",
     "output_type": "stream",
     "text": [
      "Backend      Result       Gradient    \n",
      "torch        11.069163    15.654160   \n"
     ]
    }
   ],
   "source": [
    "import src.dipy.dipy as di\n",
    "\n",
    "di.setBackend('torch')\n",
    "x_value = 1.7\n",
    "x= di.variable(x_value)\n",
    "a = np.sqrt(2)\n",
    "\n",
    "y = di.exp(x * a)\n",
    "\n",
    "result = y.eval()\n",
    "derivative = y.grad(x)\n",
    "\n",
    "print(\"{:<12} {:<12} {:<12}\".format('Backend', 'Result', 'Gradient'))\n",
    "print(\"{:<12} {:<12.6f} {:<12.6f}\".format(\"torch\", result, derivative))"
   ]
  },
  {
   "cell_type": "code",
   "execution_count": 5,
   "metadata": {},
   "outputs": [
    {
     "name": "stdout",
     "output_type": "stream",
     "text": [
      "Backend      Result       Gradient    \n",
      "numpy        11.069162    15.654270   \n",
      "torch        11.069163    15.654160   \n",
      "tensorflow   11.069163    15.654160   \n",
      "jax          11.069162    15.654160   \n"
     ]
    }
   ],
   "source": [
    "import src.dipy.dipy as di\n",
    "\n",
    "backend_array = ['numpy', 'torch', 'tensorflow', 'jax']\n",
    "print(\"{:<12} {:<12} {:<12}\".format('Backend', 'Result', 'Gradient'))\n",
    "\n",
    "for backend in backend_array:\n",
    "    di.setBackend(backend)\n",
    "\n",
    "    x_value = 1.7\n",
    "    x = di.variable(x_value)\n",
    "    a = np.sqrt(2)\n",
    "    y = di.exp(x * a)\n",
    "    \n",
    "    result = y.eval()\n",
    "    derivative = y.grad(x)\n",
    "\n",
    "    print(\"{:<12} {:<12.6f} {:<12.6f}\".format(backend, result, derivative))"
   ]
  },
  {
   "cell_type": "code",
   "execution_count": 24,
   "metadata": {},
   "outputs": [
    {
     "name": "stdout",
     "output_type": "stream",
     "text": [
      "Backend      Result       Gradient    \n",
      "tensorflow   11.069163    15.654160   \n",
      "Generated Function Code:\n",
      "def myfunc(Input23):\n",
      "    return tf.exp((Input23 * tf.Variable(1.4142135623730951, dtype=tf.float32)))\n",
      "\n",
      "tf.Tensor(11.069163, shape=(), dtype=float32)\n",
      "<tf.Variable 'Variable:0' shape=() dtype=float32, numpy=1.7>\n",
      "tf.Tensor(15.6541605, shape=(), dtype=float32)\n"
     ]
    }
   ],
   "source": [
    "import src.dipy.dipy as di\n",
    "\n",
    "backend_array = ['tensorflow']\n",
    "print(\"{:<12} {:<12} {:<12}\".format('Backend', 'Result', 'Gradient'))\n",
    "\n",
    "for backend in backend_array:\n",
    "    di.setBackend(backend)\n",
    "\n",
    "    x_value = 1.7\n",
    "    x = di.variable(x_value)\n",
    "    a = np.sqrt(2)\n",
    "    y = di.exp(x * a)\n",
    "    \n",
    "    result = y.eval()\n",
    "    derivative = y.grad(x)\n",
    "\n",
    "    print(\"{:<12} {:<12.6f} {:<12.6f}\".format(backend, result, derivative))\n",
    "\n",
    "test = y.create_result_class()\n",
    "func = test.create_optimized_executable()\n",
    "import tensorflow as tf\n",
    "\n",
    "#x2 = tf.Variable(1.7)\n",
    "\n",
    "# with tf.GradientTape() as tape:\n",
    "#     t1 = func(x2)\n",
    "# print(t1)\n",
    "# print(x.value_tf)\n",
    "# t2 = tape.gradient(t1, x2)\n",
    "# print(t2)\n",
    "\n",
    "with tf.GradientTape() as tape:\n",
    "    t1 = func(x.value_tf)\n",
    "print(t1)\n",
    "print(x.value_tf)\n",
    "t2 = tape.gradient(t1, x.value_tf)\n",
    "print(t2)"
   ]
  },
  {
   "cell_type": "code",
   "execution_count": 25,
   "metadata": {},
   "outputs": [
    {
     "name": "stdout",
     "output_type": "stream",
     "text": [
      "Generated Function Code:\n",
      "def myfunc(Input23):\n",
      "    return tf.exp((Input23 * tf.Variable(1.4142135623730951, dtype=tf.float32)))\n",
      "\n",
      "tf.Tensor(11.069163, shape=(), dtype=float32)\n",
      "<tf.Variable 'Variable:0' shape=() dtype=float32, numpy=1.7>\n",
      "tf.Tensor(15.6541605, shape=(), dtype=float32)\n"
     ]
    }
   ],
   "source": [
    "test = y.create_result_class()\n",
    "func = test.create_optimized_executable()\n",
    "import tensorflow as tf\n",
    "\n",
    "with tf.GradientTape() as tape:\n",
    "    t1 = func(x.value_tf)\n",
    "print(t1)\n",
    "print(x.value_tf)\n",
    "t2 = tape.gradient(t1, x.value_tf)\n",
    "print(t2)"
   ]
  }
 ],
 "metadata": {
  "kernelspec": {
   "display_name": "Python 3",
   "language": "python",
   "name": "python3"
  },
  "language_info": {
   "codemirror_mode": {
    "name": "ipython",
    "version": 3
   },
   "file_extension": ".py",
   "mimetype": "text/x-python",
   "name": "python",
   "nbconvert_exporter": "python",
   "pygments_lexer": "ipython3",
   "version": "3.10.11"
  }
 },
 "nbformat": 4,
 "nbformat_minor": 2
}
