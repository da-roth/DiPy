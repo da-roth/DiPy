{
 "cells": [
  {
   "cell_type": "code",
   "execution_count": 12,
   "metadata": {},
   "outputs": [
    {
     "name": "stdout",
     "output_type": "stream",
     "text": [
      "11.069162135812496\n"
     ]
    }
   ],
   "source": [
    "import numpy as np\n",
    "\n",
    "x = 1.7\n",
    "a = np.sqrt(2)\n",
    "y = np.exp(x * a)\n",
    "\n",
    "print(y)"
   ]
  },
  {
   "cell_type": "code",
   "execution_count": 13,
   "metadata": {},
   "outputs": [],
   "source": [
    "import os\n",
    "import sys\n",
    "\n",
    "os.getcwd()  # Check the current working directory\n",
    "sys.path.append(os.path.abspath(os.path.join(os.getcwd(), '..')))\n",
    "\n",
    "import src.dipy.dipy as di"
   ]
  },
  {
   "cell_type": "code",
   "execution_count": 14,
   "metadata": {},
   "outputs": [
    {
     "name": "stdout",
     "output_type": "stream",
     "text": [
      "exp((1.7 * sqrt(2)))\n",
      "11.069162135812496\n"
     ]
    }
   ],
   "source": [
    "x = 1.7\n",
    "a = di.sqrt(2)\n",
    "y = di.exp(x * a)\n",
    "\n",
    "print(y)\n",
    "print(y.eval())"
   ]
  },
  {
   "cell_type": "code",
   "execution_count": 16,
   "metadata": {},
   "outputs": [
    {
     "name": "stdout",
     "output_type": "stream",
     "text": [
      "exp((1.7 * sqrt(2)))\n",
      "11.069162135812496\n"
     ]
    }
   ],
   "source": [
    "import src.dipy.dipy as np\n",
    "\n",
    "x = 1.7\n",
    "a = np.sqrt(2)\n",
    "y = np.exp(x * a)\n",
    "\n",
    "print(y)\n",
    "print(y.eval())"
   ]
  },
  {
   "cell_type": "code",
   "execution_count": 17,
   "metadata": {},
   "outputs": [
    {
     "name": "stdout",
     "output_type": "stream",
     "text": [
      "Backend      Result       Gradient    \n",
      "numpy        11.069162    15.654270   \n"
     ]
    }
   ],
   "source": [
    "x_value = 1.7\n",
    "x= di.variable(x_value)\n",
    "a = di.sqrt(2)\n",
    "y = di.exp(x * a)\n",
    "\n",
    "result = y.eval()\n",
    "derivative = y.grad(x)\n",
    "\n",
    "print(\"{:<12} {:<12} {:<12}\".format('Backend', 'Result', 'Gradient'))\n",
    "print(\"{:<12} {:<12.6f} {:<12.6f}\".format(\"numpy\", result, derivative))"
   ]
  },
  {
   "cell_type": "code",
   "execution_count": null,
   "metadata": {},
   "outputs": [
    {
     "name": "stdout",
     "output_type": "stream",
     "text": [
      "Backend      Result       Gradient    \n",
      "torch        11.069163    15.654160   \n"
     ]
    }
   ],
   "source": [
    "di.setBackend('torch')\n",
    "x_value = 1.7\n",
    "x= di.variable(x_value)\n",
    "a = di.sqrt(2)\n",
    "\n",
    "y = di.exp(x * a)\n",
    "\n",
    "result = y.eval()\n",
    "derivative = y.grad(x)\n",
    "\n",
    "print(\"{:<12} {:<12} {:<12}\".format('Backend', 'Result', 'Gradient'))\n",
    "print(\"{:<12} {:<12.6f} {:<12.6f}\".format(\"torch\", result, derivative))"
   ]
  },
  {
   "cell_type": "code",
   "execution_count": null,
   "metadata": {},
   "outputs": [
    {
     "name": "stdout",
     "output_type": "stream",
     "text": [
      "Backend      Result       Gradient    \n",
      "numpy        11.069162    15.654270   \n",
      "torch        11.069163    15.654160   \n",
      "tensorflow   11.069163    15.654160   \n",
      "jax          11.069162    15.654160   \n"
     ]
    }
   ],
   "source": [
    "backend_array = ['numpy', 'torch', 'tensorflow', 'jax']\n",
    "print(\"{:<12} {:<12} {:<12}\".format('Backend', 'Result', 'Gradient'))\n",
    "\n",
    "for backend in backend_array:\n",
    "    di.setBackend(backend)\n",
    "\n",
    "    x_value = 1.7\n",
    "    x = di.variable(x_value)\n",
    "    a = di.sqrt(2)\n",
    "    y = di.exp(x * a)\n",
    "    \n",
    "    result = y.eval()\n",
    "    derivative = y.grad(x)\n",
    "\n",
    "    print(\"{:<12} {:<12.6f} {:<12.6f}\".format(backend, result, derivative))"
   ]
  }
 ],
 "metadata": {
  "kernelspec": {
   "display_name": "Python 3",
   "language": "python",
   "name": "python3"
  },
  "language_info": {
   "codemirror_mode": {
    "name": "ipython",
    "version": 3
   },
   "file_extension": ".py",
   "mimetype": "text/x-python",
   "name": "python",
   "nbconvert_exporter": "python",
   "pygments_lexer": "ipython3",
   "version": "3.10.11"
  }
 },
 "nbformat": 4,
 "nbformat_minor": 2
}
