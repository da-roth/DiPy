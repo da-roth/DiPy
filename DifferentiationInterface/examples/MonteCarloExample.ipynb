{
 "cells": [
  {
   "cell_type": "code",
   "execution_count": 1,
   "metadata": {},
   "outputs": [],
   "source": [
    "import os\n",
    "import sys\n",
    "\n",
    "os.getcwd()  # Check the current working directory\n",
    "sys.path.append(os.path.abspath(os.path.join(os.getcwd(), '..')))\n",
    "\n",
    "import src.dipy.dipy as di"
   ]
  },
  {
   "cell_type": "code",
   "execution_count": 2,
   "metadata": {},
   "outputs": [
    {
     "name": "stdout",
     "output_type": "stream",
     "text": [
      "Standard MC result: 9.999960899353027\n",
      "Delta approximation: 0.4989350140094757\n"
     ]
    }
   ],
   "source": [
    "#\n",
    "# Example usage: digital asset or nothing\n",
    "#\n",
    "\n",
    "s0_value = 100.0\n",
    "K_value = 110.0\n",
    "r_value = 0.05\n",
    "sigma_value = 0.3\n",
    "dt_value = 1\n",
    "u_value = 0.5 # scipy.stats.uniform.rvs()\n",
    "z_value = 0.5\n",
    "\n",
    "N = 1000000\n",
    "seed = 1\n",
    "\n",
    "###\n",
    "### 1. Define inputs used in di.\n",
    "###\n",
    "\n",
    "# Computation settings\n",
    "di.setBackend('torch')\n",
    "\n",
    "s0 = di.variable(s0_value, 'input','s0')\n",
    "K = di.variable(K_value, 'input','B')\n",
    "r = di.variable(r_value, 'input','r')\n",
    "sigma = di.variable(sigma_value, 'input','sigma')\n",
    "dt = di.variable(dt_value, 'constant','dt')\n",
    "u = di.variable(u_value, 'randomVariable','u')\n",
    "z = di.variable(z_value, 'randomVariableNormal','z')\n",
    "\n",
    "###\n",
    "### 2. Record Tape: Standard Monte Carlo\n",
    "###\n",
    "\n",
    "\n",
    "z.NewSample(N)\n",
    "\n",
    "s = s0 * di.exp((r - sigma **2 / 2) * dt + sigma * di.sqrt(dt) * z)\n",
    "payoff =  di.if_(s > K, s - K, 0)\n",
    "\n",
    "PV_standard = di.exp(-r * dt) * di.sum(payoff) / N\n",
    "\n",
    "## Result and Delta\n",
    "result_standard = PV_standard.eval()\n",
    "delta_standard = PV_standard.grad(s0)\n",
    "\n",
    "print('Standard MC result:', result_standard)\n",
    "print('Delta approximation:', delta_standard)"
   ]
  }
 ],
 "metadata": {
  "kernelspec": {
   "display_name": "Python 3",
   "language": "python",
   "name": "python3"
  },
  "language_info": {
   "codemirror_mode": {
    "name": "ipython",
    "version": 3
   },
   "file_extension": ".py",
   "mimetype": "text/x-python",
   "name": "python",
   "nbconvert_exporter": "python",
   "pygments_lexer": "ipython3",
   "version": "3.10.11"
  }
 },
 "nbformat": 4,
 "nbformat_minor": 2
}
