{
 "cells": [
  {
   "cell_type": "code",
   "execution_count": 1,
   "metadata": {},
   "outputs": [
    {
     "name": "stdout",
     "output_type": "stream",
     "text": [
      "11.069162135812496\n"
     ]
    }
   ],
   "source": [
    "import numpy as np\n",
    "\n",
    "x = 1.7\n",
    "a = np.sqrt(2)\n",
    "y = np.exp(x * a)\n",
    "\n",
    "print(y)"
   ]
  },
  {
   "cell_type": "code",
   "execution_count": 2,
   "metadata": {},
   "outputs": [
    {
     "name": "stderr",
     "output_type": "stream",
     "text": [
      "2024-06-19 11:38:04.290264: E external/local_xla/xla/stream_executor/cuda/cuda_dnn.cc:9261] Unable to register cuDNN factory: Attempting to register factory for plugin cuDNN when one has already been registered\n",
      "2024-06-19 11:38:04.290289: E external/local_xla/xla/stream_executor/cuda/cuda_fft.cc:607] Unable to register cuFFT factory: Attempting to register factory for plugin cuFFT when one has already been registered\n",
      "2024-06-19 11:38:04.290770: E external/local_xla/xla/stream_executor/cuda/cuda_blas.cc:1515] Unable to register cuBLAS factory: Attempting to register factory for plugin cuBLAS when one has already been registered\n",
      "2024-06-19 11:38:04.686324: W tensorflow/compiler/tf2tensorrt/utils/py_utils.cc:38] TF-TRT Warning: Could not find TensorRT\n"
     ]
    }
   ],
   "source": [
    "import os\n",
    "import sys\n",
    "\n",
    "os.getcwd()  # Check the current working directory\n",
    "sys.path.append(os.path.abspath(os.path.join(os.getcwd(), '..')))\n",
    "\n",
    "import src.diffipy.diffipy as dp"
   ]
  },
  {
   "cell_type": "code",
   "execution_count": 3,
   "metadata": {},
   "outputs": [
    {
     "name": "stdout",
     "output_type": "stream",
     "text": [
      "Backend      Result       Gradient    \n",
      "numpy        13.082915    [15.654269908971228, 2.0137627762650823]\n",
      "torch        13.082916    [15.654160499572754, 2.0137526988983154]\n",
      "tensorflow   13.082916    [15.6541605, 2.0137527]\n",
      "jax          13.082915    [15.654159545898438, 2.0137526988983154]\n",
      "You are using evaluation version of AADC. Expire date is 20240901aadc         13.082915    [15.654159216572769, 2.013752707470476]\n",
      "\n",
      "You are using evaluation version of AADC. Expire date is 20240901\n"
     ]
    }
   ],
   "source": [
    "backend_array = ['numpy', 'torch', 'tensorflow', 'jax', 'aadc']\n",
    "print(\"{:<12} {:<12} {:<12}\".format('Backend', 'Result', 'Gradient'))\n",
    "\n",
    "for backend in backend_array:\n",
    "    dp.setBackend(backend)\n",
    "\n",
    "    x_value = 1.7\n",
    "    y_value = 0.7\n",
    "    x = dp.variable(x_value)\n",
    "    y = dp.variable(y_value)\n",
    "    a = dp.sqrt(2)\n",
    "    f = dp.exp(x * a) + dp.exp(y)\n",
    "    \n",
    "    result = f.eval()\n",
    "    derivative = f.grad()\n",
    "\n",
    "    print(\"{:<12} {:<12.6f} {:<12}\".format(backend, result, str(derivative)))"
   ]
  },
  {
   "cell_type": "code",
   "execution_count": 4,
   "metadata": {},
   "outputs": [
    {
     "name": "stdout",
     "output_type": "stream",
     "text": [
      "Backend      Result       Gradient    \n",
      "numpy        13.082915    2.0137627762650823\n",
      "torch        13.082916    2.0137526988983154\n",
      "tensorflow   13.082916    2.0137527   \n",
      "jax          13.082915    2.0137527   \n",
      "You are using evaluation version of AADC. Expire date is 20240901aadc         13.082915    2.013752707470476\n",
      "\n",
      "You are using evaluation version of AADC. Expire date is 20240901\n"
     ]
    }
   ],
   "source": [
    "# Differentiation in a specific direction\n",
    "backend_array = ['numpy', 'torch', 'tensorflow', 'jax','aadc']\n",
    "print(\"{:<12} {:<12} {:<12}\".format('Backend', 'Result', 'Gradient'))\n",
    "\n",
    "for backend in backend_array:\n",
    "    dp.setBackend(backend)\n",
    "\n",
    "    x_value = 1.7\n",
    "    y_value = 0.7\n",
    "    x = dp.variable(x_value)\n",
    "    y = dp.variable(y_value)\n",
    "    a = dp.sqrt(2)\n",
    "    f = dp.exp(x * a) + dp.exp(y)\n",
    "    \n",
    "    result = f.eval()\n",
    "    derivative = f.grad(y)\n",
    "\n",
    "    print(\"{:<12} {:<12.6f} {:<12}\".format(backend, result, str(derivative)))"
   ]
  }
 ],
 "metadata": {
  "kernelspec": {
   "display_name": "Python 3",
   "language": "python",
   "name": "python3"
  },
  "language_info": {
   "codemirror_mode": {
    "name": "ipython",
    "version": 3
   },
   "file_extension": ".py",
   "mimetype": "text/x-python",
   "name": "python",
   "nbconvert_exporter": "python",
   "pygments_lexer": "ipython3",
   "version": "3.9.16"
  }
 },
 "nbformat": 4,
 "nbformat_minor": 2
}
