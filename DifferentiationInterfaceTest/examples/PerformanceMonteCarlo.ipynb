{
 "cells": [
  {
   "cell_type": "code",
   "execution_count": 1,
   "metadata": {},
   "outputs": [
    {
     "name": "stderr",
     "output_type": "stream",
     "text": [
      "2024-06-16 19:29:25.831411: E external/local_xla/xla/stream_executor/cuda/cuda_dnn.cc:9261] Unable to register cuDNN factory: Attempting to register factory for plugin cuDNN when one has already been registered\n",
      "2024-06-16 19:29:25.831438: E external/local_xla/xla/stream_executor/cuda/cuda_fft.cc:607] Unable to register cuFFT factory: Attempting to register factory for plugin cuFFT when one has already been registered\n",
      "2024-06-16 19:29:25.831938: E external/local_xla/xla/stream_executor/cuda/cuda_blas.cc:1515] Unable to register cuBLAS factory: Attempting to register factory for plugin cuBLAS when one has already been registered\n",
      "2024-06-16 19:29:26.232065: W tensorflow/compiler/tf2tensorrt/utils/py_utils.cc:38] TF-TRT Warning: Could not find TensorRT\n"
     ]
    }
   ],
   "source": [
    "import os\n",
    "import sys\n",
    "\n",
    "sys.path.append(os.path.abspath(os.path.join(os.getcwd(), os.pardir, os.pardir)))\n",
    "\n",
    "\n",
    "import DifferentiationInterface.src.diffipy.diffipy as dp"
   ]
  },
  {
   "cell_type": "code",
   "execution_count": 2,
   "metadata": {},
   "outputs": [
    {
     "name": "stdout",
     "output_type": "stream",
     "text": [
      "Backend              Eval-Result  mean runtime    variance runtime    gradient directions: {'s0', 'K', 'r', 'dt', 'sigma'}\n",
      "numpy                10.039795    0.075103        0.000000            [0.500443682405205, -0.3636766294334847, 40.005448358471085, 39.96667528429754, 7.995221454493161]\n",
      "numpy_as_func        10.039795    0.076384        0.000000            {'s0': 0.5004436804512125, 'K': -0.36367661788716527, 'r': 40.00544835758291, 'sigma': 39.966675321778666, 'dt': 7.995221461420953}\n",
      "torch                10.038340    0.006090        0.000000            [0.5000073313713074, -0.3632945418357849, 39.96239471435547, 39.96961975097656, 7.993563652038574]\n",
      "torch_as_func        10.038340    0.001529        0.000000            [tensor(0.5000), tensor(-0.3633), tensor(39.9624), tensor(39.9696), tensor(7.9936)]\n",
      "tensorflow           9.990881     0.030842        0.000029            [0.49885055, -0.36267433, 39.894173, 39.770374, 7.9602647]\n",
      "tensorflow_as_func   9.990881     0.007121        0.000004            [<tf.Tensor: shape=(), dtype=float32, numpy=0.49885055>, <tf.Tensor: shape=(), dtype=float32, numpy=-0.36267433>, <tf.Tensor: shape=(), dtype=float32, numpy=39.894173>, <tf.Tensor: shape=(), dtype=float32, numpy=39.770374>, <tf.Tensor: shape=(), dtype=float32, numpy=7.9602647>]\n",
      "jax_as_func          10.033223    0.014081        0.000008            {'s0': Array(0.49972072, dtype=float32, weak_type=True), 'K': Array(-0.36308047, dtype=float32, weak_type=True), 'r': Array(39.938858, dtype=float32, weak_type=True), 'sigma': Array(39.954735, dtype=float32, weak_type=True), 'dt': Array(7.9901543, dtype=float32, weak_type=True)}\n"
     ]
    },
    {
     "ename": "NotImplementedError",
     "evalue": "Must be implemented in subclasses",
     "output_type": "error",
     "traceback": [
      "\u001b[0;31m---------------------------------------------------------------------------\u001b[0m",
      "\u001b[0;31mNotImplementedError\u001b[0m                       Traceback (most recent call last)",
      "Cell \u001b[0;32mIn[2], line 36\u001b[0m\n\u001b[1;32m     32\u001b[0m \u001b[38;5;66;03m### Test performance # seed and NewSample not working for aadc yet\u001b[39;00m\n\u001b[1;32m     33\u001b[0m \u001b[38;5;66;03m#dp.seed(seed)\u001b[39;00m\n\u001b[1;32m     34\u001b[0m pre_computed_random_variables \u001b[38;5;241m=\u001b[39m z\u001b[38;5;241m.\u001b[39mNewSample(N) \u001b[38;5;66;03m# pre-evaluate random samples\u001b[39;00m\n\u001b[0;32m---> 36\u001b[0m \u001b[43mPV_standard\u001b[49m\u001b[38;5;241;43m.\u001b[39;49m\u001b[43mrun_performance_test\u001b[49m\u001b[43m(\u001b[49m\u001b[43mfunc_input_variables\u001b[49m\u001b[43m,\u001b[49m\u001b[43m \u001b[49m\u001b[43mdiff_variables\u001b[49m\u001b[43m,\u001b[49m\u001b[43m \u001b[49m\u001b[43mwarmup_iterations\u001b[49m\u001b[43m \u001b[49m\u001b[38;5;241;43m=\u001b[39;49m\u001b[43m \u001b[49m\u001b[38;5;241;43m3\u001b[39;49m\u001b[43m,\u001b[49m\u001b[43m \u001b[49m\u001b[43mtest_iterations\u001b[49m\u001b[43m \u001b[49m\u001b[38;5;241;43m=\u001b[39;49m\u001b[43m \u001b[49m\u001b[38;5;241;43m5\u001b[39;49m\u001b[43m)\u001b[49m\n",
      "File \u001b[0;32m~/Documents/dev/DiffiPy/DifferentiationInterface/src/diffipy/Node.py:173\u001b[0m, in \u001b[0;36mNode.run_performance_test\u001b[0;34m(self, input_variables, diff_variables, warmup_iterations, test_iterations)\u001b[0m\n\u001b[1;32m    170\u001b[0m eval_class \u001b[38;5;241m=\u001b[39m BackendConfig\u001b[38;5;241m.\u001b[39mbackend_result_classes[BackendConfig\u001b[38;5;241m.\u001b[39mbackend][\u001b[38;5;124m\"\u001b[39m\u001b[38;5;124mresult\u001b[39m\u001b[38;5;124m\"\u001b[39m]\n\u001b[1;32m    171\u001b[0m instance_eval_class \u001b[38;5;241m=\u001b[39m eval_class(\u001b[38;5;28mself\u001b[39m)\n\u001b[0;32m--> 173\u001b[0m \u001b[43minstance_eval_class\u001b[49m\u001b[38;5;241;43m.\u001b[39;49m\u001b[43mrun_backend_specific_performance_tests\u001b[49m\u001b[43m(\u001b[49m\u001b[43minput_variables\u001b[49m\u001b[43m,\u001b[49m\u001b[43m \u001b[49m\u001b[43mdiff_variables\u001b[49m\u001b[43m,\u001b[49m\u001b[43m \u001b[49m\u001b[43mwarmup_iterations\u001b[49m\u001b[43m,\u001b[49m\u001b[43m \u001b[49m\u001b[43mtest_iterations\u001b[49m\u001b[43m)\u001b[49m\n",
      "File \u001b[0;32m~/Documents/dev/DiffiPy/DifferentiationInterface/src/diffipy/NodesDifferentiation.py:61\u001b[0m, in \u001b[0;36mResultNode.run_backend_specific_performance_tests\u001b[0;34m(self, input_variables, diff_variables, warmup_iterations, test_iterations)\u001b[0m\n\u001b[1;32m     58\u001b[0m times \u001b[38;5;241m=\u001b[39m []\n\u001b[1;32m     60\u001b[0m \u001b[38;5;28;01mfor\u001b[39;00m _ \u001b[38;5;129;01min\u001b[39;00m \u001b[38;5;28mrange\u001b[39m(warmup_iterations):\n\u001b[0;32m---> 61\u001b[0m     result_standard \u001b[38;5;241m=\u001b[39m \u001b[38;5;28;43mself\u001b[39;49m\u001b[38;5;241;43m.\u001b[39;49m\u001b[43moperationNode\u001b[49m\u001b[38;5;241;43m.\u001b[39;49m\u001b[43meval\u001b[49m\u001b[43m(\u001b[49m\u001b[43m)\u001b[49m\n\u001b[1;32m     62\u001b[0m     gradient_standard \u001b[38;5;241m=\u001b[39m \u001b[38;5;28mself\u001b[39m\u001b[38;5;241m.\u001b[39moperationNode\u001b[38;5;241m.\u001b[39mgrad(diff_variables)\n\u001b[1;32m     64\u001b[0m \u001b[38;5;28;01mfor\u001b[39;00m _ \u001b[38;5;129;01min\u001b[39;00m \u001b[38;5;28mrange\u001b[39m(test_iterations):\n",
      "File \u001b[0;32m~/Documents/dev/DiffiPy/DifferentiationInterface/src/diffipy/Node.py:179\u001b[0m, in \u001b[0;36mNode.eval\u001b[0;34m(self)\u001b[0m\n\u001b[1;32m    177\u001b[0m eval_class \u001b[38;5;241m=\u001b[39m BackendConfig\u001b[38;5;241m.\u001b[39mbackend_result_classes[BackendConfig\u001b[38;5;241m.\u001b[39mbackend][\u001b[38;5;124m\"\u001b[39m\u001b[38;5;124mresult\u001b[39m\u001b[38;5;124m\"\u001b[39m]\n\u001b[1;32m    178\u001b[0m instance_eval_class \u001b[38;5;241m=\u001b[39m eval_class(\u001b[38;5;28mself\u001b[39m)\n\u001b[0;32m--> 179\u001b[0m \u001b[38;5;28;01mreturn\u001b[39;00m \u001b[43minstance_eval_class\u001b[49m\u001b[38;5;241;43m.\u001b[39;49m\u001b[43meval\u001b[49m\u001b[43m(\u001b[49m\u001b[43m)\u001b[49m\n",
      "File \u001b[0;32m~/Documents/dev/DiffiPy/DifferentiationInterface/src/diffipy/backends/aadc/NodesAadc.py:161\u001b[0m, in \u001b[0;36mResultNodeAadc.eval\u001b[0;34m(self)\u001b[0m\n\u001b[1;32m    157\u001b[0m \u001b[38;5;28;01mdef\u001b[39;00m \u001b[38;5;21meval\u001b[39m(\u001b[38;5;28mself\u001b[39m):\n\u001b[1;32m    158\u001b[0m     \u001b[38;5;66;03m# #result\u001b[39;00m\n\u001b[1;32m    159\u001b[0m     \u001b[38;5;66;03m# #print('fail here')\u001b[39;00m\n\u001b[1;32m    160\u001b[0m     \u001b[38;5;66;03m# return self.operationNode.Run()\u001b[39;00m\n\u001b[0;32m--> 161\u001b[0m     input_variables \u001b[38;5;241m=\u001b[39m \u001b[38;5;28;43mself\u001b[39;49m\u001b[38;5;241;43m.\u001b[39;49m\u001b[43mget_inputs\u001b[49m\u001b[43m(\u001b[49m\u001b[43m)\u001b[49m\n\u001b[1;32m    162\u001b[0m     \u001b[38;5;66;03m#print(input_variables)\u001b[39;00m\n\u001b[1;32m    163\u001b[0m     input_dict \u001b[38;5;241m=\u001b[39m {var\u001b[38;5;241m.\u001b[39midentifier: var\u001b[38;5;241m.\u001b[39mvalue \u001b[38;5;28;01mfor\u001b[39;00m var \u001b[38;5;129;01min\u001b[39;00m input_variables}\n",
      "File \u001b[0;32m~/Documents/dev/DiffiPy/DifferentiationInterface/src/diffipy/Node.py:120\u001b[0m, in \u001b[0;36mNode.get_inputs\u001b[0;34m(self)\u001b[0m\n\u001b[1;32m    119\u001b[0m \u001b[38;5;28;01mdef\u001b[39;00m \u001b[38;5;21mget_inputs\u001b[39m(\u001b[38;5;28mself\u001b[39m):\n\u001b[0;32m--> 120\u001b[0m     \u001b[38;5;28;01mraise\u001b[39;00m \u001b[38;5;167;01mNotImplementedError\u001b[39;00m(\u001b[38;5;124m\"\u001b[39m\u001b[38;5;124mMust be implemented in subclasses\u001b[39m\u001b[38;5;124m\"\u001b[39m)\n",
      "\u001b[0;31mNotImplementedError\u001b[0m: Must be implemented in subclasses"
     ]
    }
   ],
   "source": [
    "backend_array = ['numpy', 'torch',  'tensorflow', 'jax', 'aadc'] # aadc not pre-computing tape yet...\n",
    "\n",
    "for backend in backend_array:\n",
    "    dp.setBackend(backend)\n",
    "    # Initialize variables and constants\n",
    "    s0_value = 100.0\n",
    "    K_value = 110.0\n",
    "    r_value = 0.05\n",
    "    sigma_value = 0.3\n",
    "    dt_value = 1.0\n",
    "    z_value = 0.5\n",
    "    N = 1000000\n",
    "    seed = 1\n",
    "\n",
    "    # Define variables\n",
    "    s0 = dp.variable(s0_value, 'input','s0')\n",
    "    K = dp.variable(K_value, 'input','K')\n",
    "    r = dp.variable(r_value, 'input','r')\n",
    "    sigma = dp.variable(sigma_value, 'input','sigma')\n",
    "    dt = dp.variable(dt_value, 'input','dt')\n",
    "    z = dp.variable(z_value, 'randomVariableNormal','z')\n",
    "\n",
    "    func_input_variables = [s0, K, r, sigma, dt, z]\n",
    "    diff_variables = [s0, K, r, sigma, dt]\n",
    "\n",
    "    # Record Tape: Standard Monte Carlo\n",
    "\n",
    "    s = s0 * dp.exp((r - sigma **2 / 2) * dt + sigma * dp.sqrt(dt) * z)\n",
    "    payoff = dp.if_(s > K, s - K, 0)\n",
    "    PV_standard = dp.exp(-r * dt) * dp.sum(payoff) / N\n",
    "\n",
    "    ### Test performance # seed and NewSample not working for aadc yet\n",
    "    #dp.seed(seed)\n",
    "    pre_computed_random_variables = z.NewSample(N) # pre-evaluate random samples\n",
    "\n",
    "    PV_standard.run_performance_test(func_input_variables, diff_variables, warmup_iterations = 3, test_iterations = 5)\n"
   ]
  },
  {
   "cell_type": "markdown",
   "metadata": {},
   "source": []
  }
 ],
 "metadata": {
  "kernelspec": {
   "display_name": "Python 3",
   "language": "python",
   "name": "python3"
  },
  "language_info": {
   "codemirror_mode": {
    "name": "ipython",
    "version": 3
   },
   "file_extension": ".py",
   "mimetype": "text/x-python",
   "name": "python",
   "nbconvert_exporter": "python",
   "pygments_lexer": "ipython3",
   "version": "3.9.16"
  }
 },
 "nbformat": 4,
 "nbformat_minor": 2
}
