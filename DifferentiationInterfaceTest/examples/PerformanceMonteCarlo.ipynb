{
 "cells": [
  {
   "cell_type": "code",
   "execution_count": 1,
   "metadata": {},
   "outputs": [],
   "source": [
    "import os\n",
    "import sys\n",
    "\n",
    "os.getcwd()  # Check the current working directory\n",
    "sys.path.append(os.path.abspath(os.path.join(os.getcwd(), '..\\..')))\n",
    "\n",
    "import DifferentiationInterface.src.diffipy.diffipy as dp"
   ]
  },
  {
   "cell_type": "code",
   "execution_count": 2,
   "metadata": {},
   "outputs": [
    {
     "name": "stdout",
     "output_type": "stream",
     "text": [
      "Backend              Result       Gradient (1. entry)  mean runtime    variance runtime\n",
      "nump                 10.023817    0.500207             0.034871        0.000031       \n",
      "numpy_jit            10.024070    0.500215             0.031355        0.000046       \n",
      "torch                10.020878    0.499224             0.002004        0.000020       \n",
      "torch_optimized      10.020878    0.499224             0.001565        0.000006       \n",
      "tensorflow           9.999600     0.499357             0.022830        0.000053       \n",
      "tensorflow_optimized 9.999600     0.499357             0.015313        0.000027       \n",
      "jax                  10.033216    0.499721             0.021975        0.002767       \n"
     ]
    }
   ],
   "source": [
    "backend_array = ['numpy', 'torch',  'tensorflow', 'jax']\n",
    "\n",
    "for backend in backend_array:\n",
    "    dp.setBackend(backend)\n",
    "    # Initialize variables and constants\n",
    "    s0_value = 100.0\n",
    "    K_value = 110.0\n",
    "    r_value = 0.05\n",
    "    sigma_value = 0.3\n",
    "    dt_value = 1.0\n",
    "    z_value = 0.5\n",
    "    N = 1000000\n",
    "    seed = 1\n",
    "\n",
    "    # Define variables\n",
    "    s0 = dp.variable(s0_value, 'input','s0')\n",
    "    K = dp.variable(K_value, 'input','K')\n",
    "    r = dp.variable(r_value, 'input','r')\n",
    "    sigma = dp.variable(sigma_value, 'input','sigma')\n",
    "    dt = dp.variable(dt_value, 'input','dt')\n",
    "    z = dp.variable(z_value, 'randomVariableNormal','z')\n",
    "    input_variables = [s0, K, r, sigma, dt, z]\n",
    "\n",
    "    # Record Tape: Standard Monte Carlo\n",
    "\n",
    "    s = s0 * dp.exp((r - sigma **2 / 2) * dt + sigma * dp.sqrt(dt) * z)\n",
    "    payoff =  dp.if_(s > K, s - K, 0)\n",
    "    PV_standard = dp.exp(-r * dt) * dp.sum(payoff) / N\n",
    "\n",
    "    ### Test performance\n",
    "    dp.seed(seed)\n",
    "    pre_computed_random_variables = z.NewSample(N) # pre-evaluate random samples\n",
    "\n",
    "    PV_standard.run_performance_test(input_variables, warmup_iterations = 10, test_iterations = 100)\n"
   ]
  },
  {
   "cell_type": "markdown",
   "metadata": {},
   "source": []
  }
 ],
 "metadata": {
  "kernelspec": {
   "display_name": "Python 3",
   "language": "python",
   "name": "python3"
  },
  "language_info": {
   "codemirror_mode": {
    "name": "ipython",
    "version": 3
   },
   "file_extension": ".py",
   "mimetype": "text/x-python",
   "name": "python",
   "nbconvert_exporter": "python",
   "pygments_lexer": "ipython3",
   "version": "3.10.11"
  }
 },
 "nbformat": 4,
 "nbformat_minor": 2
}
