{
 "cells": [
  {
   "cell_type": "code",
   "execution_count": 1,
   "metadata": {},
   "outputs": [
    {
     "name": "stderr",
     "output_type": "stream",
     "text": [
      "2024-06-16 14:11:42.642236: E external/local_xla/xla/stream_executor/cuda/cuda_dnn.cc:9261] Unable to register cuDNN factory: Attempting to register factory for plugin cuDNN when one has already been registered\n",
      "2024-06-16 14:11:42.642261: E external/local_xla/xla/stream_executor/cuda/cuda_fft.cc:607] Unable to register cuFFT factory: Attempting to register factory for plugin cuFFT when one has already been registered\n",
      "2024-06-16 14:11:42.642798: E external/local_xla/xla/stream_executor/cuda/cuda_blas.cc:1515] Unable to register cuBLAS factory: Attempting to register factory for plugin cuBLAS when one has already been registered\n",
      "2024-06-16 14:11:43.040015: W tensorflow/compiler/tf2tensorrt/utils/py_utils.cc:38] TF-TRT Warning: Could not find TensorRT\n"
     ]
    }
   ],
   "source": [
    "import os\n",
    "import sys\n",
    "\n",
    "sys.path.append(os.path.abspath(os.path.join(os.getcwd(), os.pardir, os.pardir)))\n",
    "\n",
    "\n",
    "import DifferentiationInterface.src.diffipy.diffipy as dp"
   ]
  },
  {
   "cell_type": "code",
   "execution_count": 2,
   "metadata": {},
   "outputs": [
    {
     "name": "stdout",
     "output_type": "stream",
     "text": [
      "gradient outpt {'s0': 0.4990083906974973, 'K': -0.3626695109559818, 'r': 39.894204887147566, 'sigma': 39.85057218702792, 'dt': 7.972257026800377}\n",
      "Backend              Eval-Result  mean runtime    variance runtime    gradient directions: {'s0', 'r', 'K', 'dt', 'sigma'}\n",
      "numpy                10.007182    0.076368        0.000001            [0.49900837026939365, -0.36266953475916347, 39.89420489318718, 39.85057218347521, 7.972257019339678]\n",
      "numpy_as_func        10.007182    0.075029        0.000001            {'s0': 0.4990083906974973, 'K': -0.3626695109559818, 'r': 39.894204887147566, 'sigma': 39.85057218702792, 'dt': 7.972257026800377}\n",
      "gradient outpt [tensor(0.4988), tensor(-0.3625), tensor(39.8771), tensor(39.8354), tensor(7.9692)]\n",
      "torch                10.005535    0.013321        0.000052            [0.4988265335559845, -0.3625192642211914, 39.877113342285156, 39.83542251586914, 7.969169616699219]\n",
      "torch_as_func        10.005536    0.001671        0.000000            [tensor(0.4988), tensor(-0.3625), tensor(39.8771), tensor(39.8354), tensor(7.9692)]\n",
      "gradient outpt [<tf.Tensor: shape=(), dtype=float32, numpy=0.49965286>, <tf.Tensor: shape=(), dtype=float32, numpy=-0.36321843>, <tf.Tensor: shape=(), dtype=float32, numpy=39.954025>, <tf.Tensor: shape=(), dtype=float32, numpy=39.858303>, <tf.Tensor: shape=(), dtype=float32, numpy=7.976447>]\n",
      "tensorflow           10.011268    0.029963        0.000005            [0.49965286, -0.36321843, 39.954025, 39.858303, 7.976447]\n",
      "tensorflow_as_func   10.011268    0.007737        0.000003            [<tf.Tensor: shape=(), dtype=float32, numpy=0.49965286>, <tf.Tensor: shape=(), dtype=float32, numpy=-0.36321843>, <tf.Tensor: shape=(), dtype=float32, numpy=39.954025>, <tf.Tensor: shape=(), dtype=float32, numpy=39.858303>, <tf.Tensor: shape=(), dtype=float32, numpy=7.976447>]\n",
      "gradient outpt {'s0': Array(0.49972072, dtype=float32, weak_type=True), 'K': Array(-0.36308047, dtype=float32, weak_type=True), 'r': Array(39.938858, dtype=float32, weak_type=True), 'sigma': Array(39.954735, dtype=float32, weak_type=True), 'dt': Array(7.9901543, dtype=float32, weak_type=True)}\n",
      "jax_as_func          10.033224    0.013507        0.000007            {'s0': Array(0.49972072, dtype=float32, weak_type=True), 'K': Array(-0.36308047, dtype=float32, weak_type=True), 'r': Array(39.938858, dtype=float32, weak_type=True), 'sigma': Array(39.954735, dtype=float32, weak_type=True), 'dt': Array(7.9901543, dtype=float32, weak_type=True)}\n"
     ]
    },
    {
     "ename": "TypeError",
     "evalue": "iif(): incompatible function arguments. The following argument types are supported:\n    1. (arg0: aadc._aadc_core.ibool, arg1: aadc._aadc_core.idouble, arg2: aadc._aadc_core.idouble) -> aadc._aadc_core.idouble\n    2. (arg0: aadc._aadc_core.ibool, arg1: float, arg2: aadc._aadc_core.idouble) -> aadc._aadc_core.idouble\n    3. (arg0: aadc._aadc_core.ibool, arg1: aadc._aadc_core.idouble, arg2: float) -> aadc._aadc_core.idouble\n    4. (arg0: bool, arg1: float, arg2: float) -> float\n\nInvoked with: array([False,  True, False, ...,  True, False, False]), array([-49.64233591,   4.88110994, -34.99274068, ...,  13.4286832 ,\n       -22.96702106, -26.03921507]), idouble(0.00e+00)",
     "output_type": "error",
     "traceback": [
      "\u001b[0;31m---------------------------------------------------------------------------\u001b[0m",
      "\u001b[0;31mTypeError\u001b[0m                                 Traceback (most recent call last)",
      "Cell \u001b[0;32mIn[2], line 36\u001b[0m\n\u001b[1;32m     32\u001b[0m \u001b[38;5;66;03m### Test performance\u001b[39;00m\n\u001b[1;32m     33\u001b[0m \u001b[38;5;66;03m#dp.seed(seed)\u001b[39;00m\n\u001b[1;32m     34\u001b[0m pre_computed_random_variables \u001b[38;5;241m=\u001b[39m z\u001b[38;5;241m.\u001b[39mNewSample(N) \u001b[38;5;66;03m# pre-evaluate random samples\u001b[39;00m\n\u001b[0;32m---> 36\u001b[0m \u001b[43mPV_standard\u001b[49m\u001b[38;5;241;43m.\u001b[39;49m\u001b[43mrun_performance_test\u001b[49m\u001b[43m(\u001b[49m\u001b[43mfunc_input_variables\u001b[49m\u001b[43m,\u001b[49m\u001b[43m \u001b[49m\u001b[43mdiff_variables\u001b[49m\u001b[43m,\u001b[49m\u001b[43m \u001b[49m\u001b[43mwarmup_iterations\u001b[49m\u001b[43m \u001b[49m\u001b[38;5;241;43m=\u001b[39;49m\u001b[43m \u001b[49m\u001b[38;5;241;43m3\u001b[39;49m\u001b[43m,\u001b[49m\u001b[43m \u001b[49m\u001b[43mtest_iterations\u001b[49m\u001b[43m \u001b[49m\u001b[38;5;241;43m=\u001b[39;49m\u001b[43m \u001b[49m\u001b[38;5;241;43m10\u001b[39;49m\u001b[43m)\u001b[49m\n",
      "File \u001b[0;32m~/Documents/dev/DiffiPy/DifferentiationInterface/src/diffipy/Node.py:173\u001b[0m, in \u001b[0;36mNode.run_performance_test\u001b[0;34m(self, input_variables, diff_variables, warmup_iterations, test_iterations)\u001b[0m\n\u001b[1;32m    170\u001b[0m eval_class \u001b[38;5;241m=\u001b[39m BackendConfig\u001b[38;5;241m.\u001b[39mbackend_result_classes[BackendConfig\u001b[38;5;241m.\u001b[39mbackend][\u001b[38;5;124m\"\u001b[39m\u001b[38;5;124mresult\u001b[39m\u001b[38;5;124m\"\u001b[39m]\n\u001b[1;32m    171\u001b[0m instance_eval_class \u001b[38;5;241m=\u001b[39m eval_class(\u001b[38;5;28mself\u001b[39m)\n\u001b[0;32m--> 173\u001b[0m \u001b[43minstance_eval_class\u001b[49m\u001b[38;5;241;43m.\u001b[39;49m\u001b[43mrun_backend_specific_performance_tests\u001b[49m\u001b[43m(\u001b[49m\u001b[43minput_variables\u001b[49m\u001b[43m,\u001b[49m\u001b[43m \u001b[49m\u001b[43mdiff_variables\u001b[49m\u001b[43m,\u001b[49m\u001b[43m \u001b[49m\u001b[43mwarmup_iterations\u001b[49m\u001b[43m,\u001b[49m\u001b[43m \u001b[49m\u001b[43mtest_iterations\u001b[49m\u001b[43m)\u001b[49m\n",
      "File \u001b[0;32m~/Documents/dev/DiffiPy/DifferentiationInterface/src/diffipy/NodesDifferentiation.py:61\u001b[0m, in \u001b[0;36mResultNode.run_backend_specific_performance_tests\u001b[0;34m(self, input_variables, diff_variables, warmup_iterations, test_iterations)\u001b[0m\n\u001b[1;32m     58\u001b[0m times \u001b[38;5;241m=\u001b[39m []\n\u001b[1;32m     60\u001b[0m \u001b[38;5;28;01mfor\u001b[39;00m _ \u001b[38;5;129;01min\u001b[39;00m \u001b[38;5;28mrange\u001b[39m(warmup_iterations):\n\u001b[0;32m---> 61\u001b[0m     result_standard \u001b[38;5;241m=\u001b[39m \u001b[38;5;28;43mself\u001b[39;49m\u001b[38;5;241;43m.\u001b[39;49m\u001b[43moperationNode\u001b[49m\u001b[38;5;241;43m.\u001b[39;49m\u001b[43meval\u001b[49m\u001b[43m(\u001b[49m\u001b[43m)\u001b[49m\n\u001b[1;32m     62\u001b[0m     gradient_standard \u001b[38;5;241m=\u001b[39m \u001b[38;5;28mself\u001b[39m\u001b[38;5;241m.\u001b[39moperationNode\u001b[38;5;241m.\u001b[39mgrad(diff_variables)\n\u001b[1;32m     64\u001b[0m \u001b[38;5;28;01mfor\u001b[39;00m _ \u001b[38;5;129;01min\u001b[39;00m \u001b[38;5;28mrange\u001b[39m(test_iterations):\n",
      "File \u001b[0;32m~/Documents/dev/DiffiPy/DifferentiationInterface/src/diffipy/Node.py:179\u001b[0m, in \u001b[0;36mNode.eval\u001b[0;34m(self)\u001b[0m\n\u001b[1;32m    177\u001b[0m eval_class \u001b[38;5;241m=\u001b[39m BackendConfig\u001b[38;5;241m.\u001b[39mbackend_result_classes[BackendConfig\u001b[38;5;241m.\u001b[39mbackend][\u001b[38;5;124m\"\u001b[39m\u001b[38;5;124mresult\u001b[39m\u001b[38;5;124m\"\u001b[39m]\n\u001b[1;32m    178\u001b[0m instance_eval_class \u001b[38;5;241m=\u001b[39m eval_class(\u001b[38;5;28mself\u001b[39m)\n\u001b[0;32m--> 179\u001b[0m \u001b[38;5;28;01mreturn\u001b[39;00m \u001b[43minstance_eval_class\u001b[49m\u001b[38;5;241;43m.\u001b[39;49m\u001b[43meval\u001b[49m\u001b[43m(\u001b[49m\u001b[43m)\u001b[49m\n",
      "File \u001b[0;32m~/Documents/dev/DiffiPy/DifferentiationInterface/src/diffipy/backends/aadc/NodesAadc.py:210\u001b[0m, in \u001b[0;36mResultNodeAadc.eval\u001b[0;34m(self)\u001b[0m\n\u001b[1;32m    209\u001b[0m \u001b[38;5;28;01mdef\u001b[39;00m \u001b[38;5;21meval\u001b[39m(\u001b[38;5;28mself\u001b[39m):\n\u001b[0;32m--> 210\u001b[0m     \u001b[38;5;28;01mreturn\u001b[39;00m \u001b[38;5;28;43mself\u001b[39;49m\u001b[38;5;241;43m.\u001b[39;49m\u001b[43moperationNode\u001b[49m\u001b[38;5;241;43m.\u001b[39;49m\u001b[43mRun\u001b[49m\u001b[43m(\u001b[49m\u001b[43m)\u001b[49m\n",
      "File \u001b[0;32m~/Documents/dev/DiffiPy/DifferentiationInterface/src/diffipy/NodesOperations.py:55\u001b[0m, in \u001b[0;36mDivNode.Run\u001b[0;34m(self)\u001b[0m\n\u001b[1;32m     54\u001b[0m \u001b[38;5;28;01mdef\u001b[39;00m \u001b[38;5;21mRun\u001b[39m(\u001b[38;5;28mself\u001b[39m):\n\u001b[0;32m---> 55\u001b[0m     \u001b[38;5;28;01mreturn\u001b[39;00m \u001b[38;5;28;43mself\u001b[39;49m\u001b[38;5;241;43m.\u001b[39;49m\u001b[43mleft\u001b[49m\u001b[38;5;241;43m.\u001b[39;49m\u001b[43mRun\u001b[49m\u001b[43m(\u001b[49m\u001b[43m)\u001b[49m \u001b[38;5;241m/\u001b[39m \u001b[38;5;28mself\u001b[39m\u001b[38;5;241m.\u001b[39mright\u001b[38;5;241m.\u001b[39mRun()\n",
      "File \u001b[0;32m~/Documents/dev/DiffiPy/DifferentiationInterface/src/diffipy/NodesOperations.py:42\u001b[0m, in \u001b[0;36mMulNode.Run\u001b[0;34m(self)\u001b[0m\n\u001b[1;32m     41\u001b[0m \u001b[38;5;28;01mdef\u001b[39;00m \u001b[38;5;21mRun\u001b[39m(\u001b[38;5;28mself\u001b[39m):\n\u001b[0;32m---> 42\u001b[0m     \u001b[38;5;28;01mreturn\u001b[39;00m \u001b[38;5;28mself\u001b[39m\u001b[38;5;241m.\u001b[39mleft\u001b[38;5;241m.\u001b[39mRun() \u001b[38;5;241m*\u001b[39m \u001b[38;5;28;43mself\u001b[39;49m\u001b[38;5;241;43m.\u001b[39;49m\u001b[43mright\u001b[49m\u001b[38;5;241;43m.\u001b[39;49m\u001b[43mRun\u001b[49m\u001b[43m(\u001b[49m\u001b[43m)\u001b[49m\n",
      "File \u001b[0;32m~/Documents/dev/DiffiPy/DifferentiationInterface/src/diffipy/backends/aadc/NodesAadc.py:90\u001b[0m, in \u001b[0;36mSumNodeVectorizedAadc.Run\u001b[0;34m(self)\u001b[0m\n\u001b[1;32m     89\u001b[0m \u001b[38;5;28;01mdef\u001b[39;00m \u001b[38;5;21mRun\u001b[39m(\u001b[38;5;28mself\u001b[39m):\n\u001b[0;32m---> 90\u001b[0m     \u001b[38;5;28;01mreturn\u001b[39;00m np\u001b[38;5;241m.\u001b[39msum(\u001b[38;5;28;43mself\u001b[39;49m\u001b[38;5;241;43m.\u001b[39;49m\u001b[43moperand\u001b[49m\u001b[38;5;241;43m.\u001b[39;49m\u001b[43mRun\u001b[49m\u001b[43m(\u001b[49m\u001b[43m)\u001b[49m)\n",
      "File \u001b[0;32m~/Documents/dev/DiffiPy/DifferentiationInterface/src/diffipy/backends/aadc/NodesAadc.py:103\u001b[0m, in \u001b[0;36mIfNodeAadc.Run\u001b[0;34m(self)\u001b[0m\n\u001b[1;32m    101\u001b[0m true_value \u001b[38;5;241m=\u001b[39m \u001b[38;5;28mself\u001b[39m\u001b[38;5;241m.\u001b[39mtrue_value\u001b[38;5;241m.\u001b[39mRun()\n\u001b[1;32m    102\u001b[0m false_value \u001b[38;5;241m=\u001b[39m \u001b[38;5;28mself\u001b[39m\u001b[38;5;241m.\u001b[39mfalse_value\u001b[38;5;241m.\u001b[39mRun()\n\u001b[0;32m--> 103\u001b[0m \u001b[38;5;28;01mreturn\u001b[39;00m \u001b[43maadc\u001b[49m\u001b[38;5;241;43m.\u001b[39;49m\u001b[43miif\u001b[49m\u001b[43m(\u001b[49m\u001b[43mcondition_value\u001b[49m\u001b[43m,\u001b[49m\u001b[43m \u001b[49m\u001b[43mtrue_value\u001b[49m\u001b[43m,\u001b[49m\u001b[43m \u001b[49m\u001b[43mfalse_value\u001b[49m\u001b[43m)\u001b[49m\n",
      "\u001b[0;31mTypeError\u001b[0m: iif(): incompatible function arguments. The following argument types are supported:\n    1. (arg0: aadc._aadc_core.ibool, arg1: aadc._aadc_core.idouble, arg2: aadc._aadc_core.idouble) -> aadc._aadc_core.idouble\n    2. (arg0: aadc._aadc_core.ibool, arg1: float, arg2: aadc._aadc_core.idouble) -> aadc._aadc_core.idouble\n    3. (arg0: aadc._aadc_core.ibool, arg1: aadc._aadc_core.idouble, arg2: float) -> aadc._aadc_core.idouble\n    4. (arg0: bool, arg1: float, arg2: float) -> float\n\nInvoked with: array([False,  True, False, ...,  True, False, False]), array([-49.64233591,   4.88110994, -34.99274068, ...,  13.4286832 ,\n       -22.96702106, -26.03921507]), idouble(0.00e+00)"
     ]
    }
   ],
   "source": [
    "backend_array = ['numpy', 'torch',  'tensorflow', 'jax', 'aadc']\n",
    "\n",
    "for backend in backend_array:\n",
    "    dp.setBackend(backend)\n",
    "    # Initialize variables and constants\n",
    "    s0_value = 100.0\n",
    "    K_value = 110.0\n",
    "    r_value = 0.05\n",
    "    sigma_value = 0.3\n",
    "    dt_value = 1.0\n",
    "    z_value = 0.5\n",
    "    N = 1000000\n",
    "    seed = 1\n",
    "\n",
    "    # Define variables\n",
    "    s0 = dp.variable(s0_value, 'input','s0')\n",
    "    K = dp.variable(K_value, 'input','K')\n",
    "    r = dp.variable(r_value, 'input','r')\n",
    "    sigma = dp.variable(sigma_value, 'input','sigma')\n",
    "    dt = dp.variable(dt_value, 'input','dt')\n",
    "    z = dp.variable(z_value, 'randomVariableNormal','z')\n",
    "\n",
    "    func_input_variables = [s0, K, r, sigma, dt, z]\n",
    "    diff_variables = [s0, K, r, sigma, dt]\n",
    "\n",
    "    # Record Tape: Standard Monte Carlo\n",
    "\n",
    "    s = s0 * dp.exp((r - sigma **2 / 2) * dt + sigma * dp.sqrt(dt) * z)\n",
    "    payoff =  dp.if_(s > K, s - K, 0)\n",
    "    PV_standard = dp.exp(-r * dt) * dp.sum(payoff) / N\n",
    "\n",
    "    ### Test performance\n",
    "    #dp.seed(seed)\n",
    "    pre_computed_random_variables = z.NewSample(N) # pre-evaluate random samples\n",
    "\n",
    "    PV_standard.run_performance_test(func_input_variables, diff_variables, warmup_iterations = 3, test_iterations = 10)\n"
   ]
  },
  {
   "cell_type": "code",
   "execution_count": 3,
   "metadata": {},
   "outputs": [
    {
     "name": "stdout",
     "output_type": "stream",
     "text": [
      "gradient outpt {'s0': 2420000.122487545, 'K': 2200000.101327896}\n",
      "Backend              Eval-Result  mean runtime    variance runtime    gradient directions: {'K', 's0'}     \n",
      "numpy                121000000.000000 0.000014        0.000000            [2420000.122487545, 2200000.101327896]\n",
      "numpy_as_func        121000000.000000 0.012708        0.000323            {'s0': 2420000.122487545, 'K': 2200000.101327896}\n",
      "gradient outpt [tensor(2420000.), tensor(2200000.)]\n",
      "torch                121000000.000000 0.000123        0.000000            [2420000.0, 2200000.0]\n",
      "torch_as_func        121000000.000000 0.000028        0.000000            [tensor(2420000.), tensor(2200000.)]\n",
      "gradient outpt [<tf.Tensor: shape=(), dtype=float32, numpy=2420000.0>, <tf.Tensor: shape=(), dtype=float32, numpy=2200000.0>]\n",
      "tensorflow           121000000.000000 0.000565        0.000000            [2420000.0, 2200000.0]\n",
      "tensorflow_as_func   121000000.000000 0.000235        0.000000            [<tf.Tensor: shape=(), dtype=float32, numpy=2420000.0>, <tf.Tensor: shape=(), dtype=float32, numpy=2200000.0>]\n",
      "gradient outpt {'s0': Array(2420000., dtype=float32, weak_type=True), 'K': Array(2200000., dtype=float32, weak_type=True)}\n",
      "jax_as_func          121000000.000000 0.001206        0.000000            {'s0': Array(2420000., dtype=float32, weak_type=True), 'K': Array(2200000., dtype=float32, weak_type=True)}\n",
      "You are using evaluation version of AADC. Expire date is 20240901\n",
      "You are using evaluation version of AADC. Expire date is 20240901\n",
      "You are using evaluation version of AADC. Expire date is 20240901\n",
      "gradient outpt {'s0': array([2420000.]), 'K': array([2200000.])}\n",
      "aadc                 121000000.000000 0.019794        0.000001            [array([2420000.]), array([2200000.])]\n",
      "aadc_as_func         121000000.000000 0.019150        0.000000            {'s0': array([2420000.]), 'K': array([2200000.])}\n",
      "You are using evaluation version of AADC. Expire date is 20240901\n"
     ]
    }
   ],
   "source": [
    "backend_array = ['numpy', 'torch',  'tensorflow', 'jax', 'aadc']\n",
    "\n",
    "for backend in backend_array:\n",
    "    dp.setBackend(backend)\n",
    "    # Initialize variables and constants\n",
    "    s0_value = 100.0\n",
    "    K_value = 110.0\n",
    "\n",
    "    # Define variables\n",
    "    s0 = dp.variable(s0_value, 'input','s0')\n",
    "    K = dp.variable(K_value, 'input','K')\n",
    "\n",
    "    func_input_variables = [s0, K]\n",
    "    diff_variables = [s0, K]\n",
    "\n",
    "    # Record Tape: Standard Monte Carlo\n",
    "\n",
    "    PV_standard = s0*s0*K*K\n",
    "\n",
    "    ### Test performance\n",
    "    #dp.seed(seed)\n",
    "    #pre_computed_random_variables = z.NewSample(N) # pre-evaluate random samples\n",
    "\n",
    "    PV_standard.run_performance_test(func_input_variables, diff_variables, warmup_iterations = 0, test_iterations = 2)"
   ]
  },
  {
   "cell_type": "markdown",
   "metadata": {},
   "source": []
  }
 ],
 "metadata": {
  "kernelspec": {
   "display_name": "Python 3",
   "language": "python",
   "name": "python3"
  },
  "language_info": {
   "codemirror_mode": {
    "name": "ipython",
    "version": 3
   },
   "file_extension": ".py",
   "mimetype": "text/x-python",
   "name": "python",
   "nbconvert_exporter": "python",
   "pygments_lexer": "ipython3",
   "version": "3.9.16"
  }
 },
 "nbformat": 4,
 "nbformat_minor": 2
}
