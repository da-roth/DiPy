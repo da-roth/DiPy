{
 "cells": [
  {
   "cell_type": "code",
   "execution_count": 1,
   "metadata": {},
   "outputs": [
    {
     "name": "stderr",
     "output_type": "stream",
     "text": [
      "2024-06-16 19:50:39.738947: E external/local_xla/xla/stream_executor/cuda/cuda_dnn.cc:9261] Unable to register cuDNN factory: Attempting to register factory for plugin cuDNN when one has already been registered\n",
      "2024-06-16 19:50:39.738972: E external/local_xla/xla/stream_executor/cuda/cuda_fft.cc:607] Unable to register cuFFT factory: Attempting to register factory for plugin cuFFT when one has already been registered\n",
      "2024-06-16 19:50:39.739515: E external/local_xla/xla/stream_executor/cuda/cuda_blas.cc:1515] Unable to register cuBLAS factory: Attempting to register factory for plugin cuBLAS when one has already been registered\n",
      "2024-06-16 19:50:40.146710: W tensorflow/compiler/tf2tensorrt/utils/py_utils.cc:38] TF-TRT Warning: Could not find TensorRT\n"
     ]
    }
   ],
   "source": [
    "import os\n",
    "import sys\n",
    "\n",
    "sys.path.append(os.path.abspath(os.path.join(os.getcwd(), os.pardir, os.pardir)))\n",
    "\n",
    "\n",
    "import DifferentiationInterface.src.diffipy.diffipy as dp"
   ]
  },
  {
   "cell_type": "code",
   "execution_count": 2,
   "metadata": {},
   "outputs": [
    {
     "name": "stdout",
     "output_type": "stream",
     "text": [
      "Backend              Eval-Result  mean runtime    variance runtime    gradient directions: {'r', 'sigma', 's0', 'dt', 'K'}\n",
      "numpy                10.023520    0.071880        0.000006            [0.5002012963828406, -0.36360554602765655, 39.996882379789156, 39.89751398876251, 7.9844421986052785]\n",
      "numpy_as_func        10.023520    0.075804        0.000000            {'s0': 0.5002013217847434, 'K': -0.36360553590242256, 'r': 39.99688241371757, 'sigma': 39.89751398751906, 'dt': 7.984442234842958}\n",
      "torch                10.020878    0.009067        0.000019            [0.4992237389087677, -0.3627409040927887, 39.9015007019043, 39.90696334838867, 7.981120586395264]\n",
      "torch_as_func        10.020878    0.001630        0.000001            [tensor(0.4992), tensor(-0.3627), tensor(39.9015), tensor(39.9070), tensor(7.9811)]\n",
      "tensorflow           9.999600     0.033225        0.000004            [0.4993573, -0.36305574, 39.936134, 39.80617, 7.9677324]\n",
      "tensorflow_as_func   9.999600     0.006786        0.000003            [<tf.Tensor: shape=(), dtype=float32, numpy=0.4993573>, <tf.Tensor: shape=(), dtype=float32, numpy=-0.36305574>, <tf.Tensor: shape=(), dtype=float32, numpy=39.936134>, <tf.Tensor: shape=(), dtype=float32, numpy=39.80617>, <tf.Tensor: shape=(), dtype=float32, numpy=7.9677324>]\n",
      "jax_as_func          10.033223    0.012626        0.000001            {'s0': Array(0.49972072, dtype=float32, weak_type=True), 'K': Array(-0.36308047, dtype=float32, weak_type=True), 'r': Array(39.938858, dtype=float32, weak_type=True), 'sigma': Array(39.954735, dtype=float32, weak_type=True), 'dt': Array(7.9901543, dtype=float32, weak_type=True)}\n",
      "You are using evaluation version of AADC. Expire date is 20240901\n",
      "You are using evaluation version of AADC. Expire date is 20240901\n",
      "You are using evaluation version of AADC. Expire date is 20240901\n",
      "You are using evaluation version of AADC. Expire date is 20240901\n",
      "You are using evaluation version of AADC. Expire date is 20240901\n",
      "You are using evaluation version of AADC. Expire date is 20240901\n",
      "You are using evaluation version of AADC. Expire date is 20240901\n",
      "You are using evaluation version of AADC. Expire date is 20240901\n",
      "You are using evaluation version of AADC. Expire date is 20240901\n",
      "You are using evaluation version of AADC. Expire date is 20240901\n",
      "You are using evaluation version of AADC. Expire date is 20240901\n",
      "You are using evaluation version of AADC. Expire date is 20240901\n",
      "You are using evaluation version of AADC. Expire date is 20240901\n",
      "You are using evaluation version of AADC. Expire date is 20240901\n",
      "You are using evaluation version of AADC. Expire date is 20240901\n",
      "You are using evaluation version of AADC. Expire date is 20240901\n",
      "You are using evaluation version of AADC. Expire date is 20240901\n",
      "aadc                 10.023520    0.200807        0.000003            [0.500201296418153, -0.3636055450582193, 39.996609956357666, 39.89751449410135, 7.984457671926268]\n",
      "aadc_as_func         10.023520    0.029252        0.000004            {'s0': 0.500201296418153, 'K': -0.3636055450582193, 'r': 39.996609956357666, 'sigma': 39.89751449410135, 'dt': 7.984457671926268, 'z': 0.0}\n"
     ]
    }
   ],
   "source": [
    "backend_array = ['numpy', 'torch',  'tensorflow', 'jax', 'aadc'] \n",
    "\n",
    "for backend in backend_array:\n",
    "    dp.setBackend(backend)\n",
    "    # Initialize variables and constants\n",
    "    s0_value = 100.0\n",
    "    K_value = 110.0\n",
    "    r_value = 0.05\n",
    "    sigma_value = 0.3\n",
    "    dt_value = 1.0\n",
    "    z_value = 0.5\n",
    "    N = 1000000\n",
    "    seed = 1\n",
    "\n",
    "    # Define variables\n",
    "    s0 = dp.variable(s0_value, 'input','s0')\n",
    "    K = dp.variable(K_value, 'input','K')\n",
    "    r = dp.variable(r_value, 'input','r')\n",
    "    sigma = dp.variable(sigma_value, 'input','sigma')\n",
    "    dt = dp.variable(dt_value, 'input','dt')\n",
    "    z = dp.variable(z_value, 'randomVariableNormal','z')\n",
    "\n",
    "    func_input_variables = [s0, K, r, sigma, dt, z]\n",
    "    diff_variables = [s0, K, r, sigma, dt]\n",
    "\n",
    "    # Record Tape: Standard Monte Carlo\n",
    "\n",
    "    s = s0 * dp.exp((r - sigma **2 / 2) * dt + sigma * dp.sqrt(dt) * z)\n",
    "    payoff = dp.if_(s > K, s - K, 0)\n",
    "    PV_standard = dp.exp(-r * dt) * dp.sum(payoff) / N\n",
    "\n",
    "    ### Test performance # seed and NewSample not working for aadc yet\n",
    "    dp.seed(seed)\n",
    "    pre_computed_random_variables = z.NewSample(N) # pre-evaluate random samples\n",
    "\n",
    "    PV_standard.run_performance_test(func_input_variables, diff_variables, warmup_iterations = 3, test_iterations = 5)\n"
   ]
  },
  {
   "cell_type": "markdown",
   "metadata": {},
   "source": []
  }
 ],
 "metadata": {
  "kernelspec": {
   "display_name": "Python 3",
   "language": "python",
   "name": "python3"
  },
  "language_info": {
   "codemirror_mode": {
    "name": "ipython",
    "version": 3
   },
   "file_extension": ".py",
   "mimetype": "text/x-python",
   "name": "python",
   "nbconvert_exporter": "python",
   "pygments_lexer": "ipython3",
   "version": "3.9.16"
  }
 },
 "nbformat": 4,
 "nbformat_minor": 2
}
