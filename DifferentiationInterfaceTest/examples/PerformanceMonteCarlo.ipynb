{
 "cells": [
  {
   "cell_type": "code",
   "execution_count": 1,
   "metadata": {},
   "outputs": [
    {
     "name": "stderr",
     "output_type": "stream",
     "text": [
      "2024-06-16 17:17:22.359858: E external/local_xla/xla/stream_executor/cuda/cuda_dnn.cc:9261] Unable to register cuDNN factory: Attempting to register factory for plugin cuDNN when one has already been registered\n",
      "2024-06-16 17:17:22.359880: E external/local_xla/xla/stream_executor/cuda/cuda_fft.cc:607] Unable to register cuFFT factory: Attempting to register factory for plugin cuFFT when one has already been registered\n",
      "2024-06-16 17:17:22.360441: E external/local_xla/xla/stream_executor/cuda/cuda_blas.cc:1515] Unable to register cuBLAS factory: Attempting to register factory for plugin cuBLAS when one has already been registered\n",
      "2024-06-16 17:17:22.765554: W tensorflow/compiler/tf2tensorrt/utils/py_utils.cc:38] TF-TRT Warning: Could not find TensorRT\n"
     ]
    }
   ],
   "source": [
    "import os\n",
    "import sys\n",
    "\n",
    "sys.path.append(os.path.abspath(os.path.join(os.getcwd(), os.pardir, os.pardir)))\n",
    "\n",
    "\n",
    "import DifferentiationInterface.src.diffipy.diffipy as dp"
   ]
  },
  {
   "cell_type": "code",
   "execution_count": 2,
   "metadata": {},
   "outputs": [
    {
     "name": "stdout",
     "output_type": "stream",
     "text": [
      "Backend              Eval-Result  mean runtime    variance runtime    gradient directions: {'r', 'sigma', 'K', 's0', 'dt'}\n",
      "numpy                0.000006     0.000151        0.000000            [1.1107106110097272e-06, -9.512294248857849e-07, 0.00010463471352264372, 2.2213679065131473e-05, 8.563872032783175e-06]\n",
      "numpy_as_func        0.000006     0.000003        0.000000            {'s0': 1.1107106110097272e-06, 'K': -9.512294248857849e-07, 'r': 0.00010463471352264372, 'sigma': 2.2213679065131473e-05, 'dt': 8.563872032783175e-06}\n",
      "torch                0.000006     0.000713        0.000000            [1.1107105137853068e-06, -9.512293672742089e-07, 0.00010463522630743682, 2.221421163994819e-05, 8.563893970858771e-06]\n",
      "torch_as_func        0.000006     0.000127        0.000000            [tensor(1.1107e-06), tensor(-9.5123e-07), tensor(0.0001), tensor(2.2214e-05), tensor(8.5639e-06)]\n",
      "tensorflow           0.000006     0.006507        0.000000            [1.1107106e-06, -9.512294e-07, 0.00010463523, 2.2214212e-05, 8.563894e-06]\n",
      "tensorflow_as_func   0.000006     0.002051        0.000000            [<tf.Tensor: shape=(), dtype=float32, numpy=1.1107106e-06>, <tf.Tensor: shape=(), dtype=float32, numpy=-9.512294e-07>, <tf.Tensor: shape=(), dtype=float32, numpy=0.00010463523>, <tf.Tensor: shape=(), dtype=float32, numpy=2.2214212e-05>, <tf.Tensor: shape=(), dtype=float32, numpy=8.563894e-06>]\n",
      "jax_as_func          0.000006     0.006456        0.000000            {'s0': Array(1.1107106e-06, dtype=float32, weak_type=True), 'K': Array(-9.512294e-07, dtype=float32, weak_type=True), 'r': Array(0.00010464, dtype=float32, weak_type=True), 'sigma': Array(2.2214212e-05, dtype=float32, weak_type=True), 'dt': Array(8.563894e-06, dtype=float32, weak_type=True)}\n",
      "You are using evaluation version of AADC. Expire date is 20240901\n",
      "You are using evaluation version of AADC. Expire date is 20240901\n",
      "You are using evaluation version of AADC. Expire date is 20240901\n",
      "You are using evaluation version of AADC. Expire date is 20240901\n",
      "You are using evaluation version of AADC. Expire date is 20240901\n",
      "You are using evaluation version of AADC. Expire date is 20240901\n",
      "You are using evaluation version of AADC. Expire date is 20240901\n",
      "You are using evaluation version of AADC. Expire date is 20240901\n",
      "You are using evaluation version of AADC. Expire date is 20240901\n",
      "You are using evaluation version of AADC. Expire date is 20240901\n",
      "You are using evaluation version of AADC. Expire date is 20240901\n",
      "You are using evaluation version of AADC. Expire date is 20240901\n",
      "You are using evaluation version of AADC. Expire date is 20240901\n",
      "You are using evaluation version of AADC. Expire date is 20240901\n",
      "You are using evaluation version of AADC. Expire date is 20240901\n",
      "You are using evaluation version of AADC. Expire date is 20240901\n",
      "You are using evaluation version of AADC. Expire date is 20240901\n",
      "You are using evaluation version of AADC. Expire date is 20240901\n",
      "You are using evaluation version of AADC. Expire date is 20240901\n",
      "You are using evaluation version of AADC. Expire date is 20240901\n",
      "You are using evaluation version of AADC. Expire date is 20240901\n",
      "You are using evaluation version of AADC. Expire date is 20240901\n",
      "You are using evaluation version of AADC. Expire date is 20240901\n",
      "You are using evaluation version of AADC. Expire date is 20240901\n",
      "aadc                 0.000006     0.020703        0.000001            [array([1.11071061e-06]), array([-9.51229425e-07]), array([0.00010464]), array([2.22142122e-05]), array([8.56389367e-06])]\n",
      "aadc_as_func         0.000006     0.024190        0.000026            {'s0': array([1.11071061e-06]), 'K': array([-9.51229425e-07]), 'r': array([0.00010464]), 'sigma': array([2.22142122e-05]), 'dt': array([8.56389367e-06]), 'z': array([3.33213183e-05])}\n",
      "You are using evaluation version of AADC. Expire date is 20240901\n",
      "You are using evaluation version of AADC. Expire date is 20240901\n"
     ]
    }
   ],
   "source": [
    "backend_array = ['numpy', 'torch',  'tensorflow', 'jax', 'aadc'] # aadc not pre-computing tape yet...\n",
    "\n",
    "for backend in backend_array:\n",
    "    dp.setBackend(backend)\n",
    "    # Initialize variables and constants\n",
    "    s0_value = 100.0\n",
    "    K_value = 110.0\n",
    "    r_value = 0.05\n",
    "    sigma_value = 0.3\n",
    "    dt_value = 1.0\n",
    "    z_value = 0.5\n",
    "    N = 1000000\n",
    "    seed = 1\n",
    "\n",
    "    # Define variables\n",
    "    s0 = dp.variable(s0_value, 'input','s0')\n",
    "    K = dp.variable(K_value, 'input','K')\n",
    "    r = dp.variable(r_value, 'input','r')\n",
    "    sigma = dp.variable(sigma_value, 'input','sigma')\n",
    "    dt = dp.variable(dt_value, 'input','dt')\n",
    "    z = dp.variable(z_value, 'randomVariableNormal','z')\n",
    "\n",
    "    func_input_variables = [s0, K, r, sigma, dt, z]\n",
    "    diff_variables = [s0, K, r, sigma, dt]\n",
    "\n",
    "    # Record Tape: Standard Monte Carlo\n",
    "\n",
    "    s = s0 * dp.exp((r - sigma **2 / 2) * dt + sigma * dp.sqrt(dt) * z)\n",
    "    payoff =  dp.if_(s > K, s - K, 0)\n",
    "    PV_standard = dp.exp(-r * dt) * dp.sum(payoff) / N\n",
    "\n",
    "    ### Test performance # seed and NewSample not working for aadc yet\n",
    "    #dp.seed(seed)\n",
    "    #pre_computed_random_variables = z.NewSample(N) # pre-evaluate random samples\n",
    "\n",
    "    PV_standard.run_performance_test(func_input_variables, diff_variables, warmup_iterations = 3, test_iterations = 10)\n"
   ]
  },
  {
   "cell_type": "markdown",
   "metadata": {},
   "source": []
  }
 ],
 "metadata": {
  "kernelspec": {
   "display_name": "Python 3",
   "language": "python",
   "name": "python3"
  },
  "language_info": {
   "codemirror_mode": {
    "name": "ipython",
    "version": 3
   },
   "file_extension": ".py",
   "mimetype": "text/x-python",
   "name": "python",
   "nbconvert_exporter": "python",
   "pygments_lexer": "ipython3",
   "version": "3.9.16"
  }
 },
 "nbformat": 4,
 "nbformat_minor": 2
}
