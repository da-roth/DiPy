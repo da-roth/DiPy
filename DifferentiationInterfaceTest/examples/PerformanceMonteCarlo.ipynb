{
 "cells": [
  {
   "cell_type": "code",
   "execution_count": 1,
   "metadata": {},
   "outputs": [
    {
     "name": "stderr",
     "output_type": "stream",
     "text": [
      "2024-06-16 17:22:50.200563: E external/local_xla/xla/stream_executor/cuda/cuda_dnn.cc:9261] Unable to register cuDNN factory: Attempting to register factory for plugin cuDNN when one has already been registered\n",
      "2024-06-16 17:22:50.200584: E external/local_xla/xla/stream_executor/cuda/cuda_fft.cc:607] Unable to register cuFFT factory: Attempting to register factory for plugin cuFFT when one has already been registered\n",
      "2024-06-16 17:22:50.201046: E external/local_xla/xla/stream_executor/cuda/cuda_blas.cc:1515] Unable to register cuBLAS factory: Attempting to register factory for plugin cuBLAS when one has already been registered\n",
      "2024-06-16 17:22:50.595407: W tensorflow/compiler/tf2tensorrt/utils/py_utils.cc:38] TF-TRT Warning: Could not find TensorRT\n"
     ]
    }
   ],
   "source": [
    "import os\n",
    "import sys\n",
    "\n",
    "sys.path.append(os.path.abspath(os.path.join(os.getcwd(), os.pardir, os.pardir)))\n",
    "\n",
    "\n",
    "import DifferentiationInterface.src.diffipy.diffipy as dp"
   ]
  },
  {
   "cell_type": "code",
   "execution_count": 2,
   "metadata": {},
   "outputs": [
    {
     "ename": "TypeError",
     "evalue": "get_optimized_executable() takes 1 positional argument but 3 were given",
     "output_type": "error",
     "traceback": [
      "\u001b[0;31m---------------------------------------------------------------------------\u001b[0m",
      "\u001b[0;31mTypeError\u001b[0m                                 Traceback (most recent call last)",
      "Cell \u001b[0;32mIn[2], line 36\u001b[0m\n\u001b[1;32m     30\u001b[0m PV_standard \u001b[38;5;241m=\u001b[39m dp\u001b[38;5;241m.\u001b[39mexp(\u001b[38;5;241m-\u001b[39mr \u001b[38;5;241m*\u001b[39m dt) \u001b[38;5;241m*\u001b[39m dp\u001b[38;5;241m.\u001b[39msum(payoff) \u001b[38;5;241m/\u001b[39m N\n\u001b[1;32m     32\u001b[0m \u001b[38;5;66;03m### Test performance # seed and NewSample not working for aadc yet\u001b[39;00m\n\u001b[1;32m     33\u001b[0m \u001b[38;5;66;03m#dp.seed(seed)\u001b[39;00m\n\u001b[1;32m     34\u001b[0m \u001b[38;5;66;03m#pre_computed_random_variables = z.NewSample(N) # pre-evaluate random samples\u001b[39;00m\n\u001b[0;32m---> 36\u001b[0m \u001b[43mPV_standard\u001b[49m\u001b[38;5;241;43m.\u001b[39;49m\u001b[43mrun_performance_test\u001b[49m\u001b[43m(\u001b[49m\u001b[43mfunc_input_variables\u001b[49m\u001b[43m,\u001b[49m\u001b[43m \u001b[49m\u001b[43mdiff_variables\u001b[49m\u001b[43m,\u001b[49m\u001b[43m \u001b[49m\u001b[43mwarmup_iterations\u001b[49m\u001b[43m \u001b[49m\u001b[38;5;241;43m=\u001b[39;49m\u001b[43m \u001b[49m\u001b[38;5;241;43m3\u001b[39;49m\u001b[43m,\u001b[49m\u001b[43m \u001b[49m\u001b[43mtest_iterations\u001b[49m\u001b[43m \u001b[49m\u001b[38;5;241;43m=\u001b[39;49m\u001b[43m \u001b[49m\u001b[38;5;241;43m10\u001b[39;49m\u001b[43m)\u001b[49m\n",
      "File \u001b[0;32m~/Documents/dev/DiffiPy/DifferentiationInterface/src/diffipy/Node.py:173\u001b[0m, in \u001b[0;36mNode.run_performance_test\u001b[0;34m(self, input_variables, diff_variables, warmup_iterations, test_iterations)\u001b[0m\n\u001b[1;32m    170\u001b[0m eval_class \u001b[38;5;241m=\u001b[39m BackendConfig\u001b[38;5;241m.\u001b[39mbackend_result_classes[BackendConfig\u001b[38;5;241m.\u001b[39mbackend][\u001b[38;5;124m\"\u001b[39m\u001b[38;5;124mresult\u001b[39m\u001b[38;5;124m\"\u001b[39m]\n\u001b[1;32m    171\u001b[0m instance_eval_class \u001b[38;5;241m=\u001b[39m eval_class(\u001b[38;5;28mself\u001b[39m)\n\u001b[0;32m--> 173\u001b[0m \u001b[43minstance_eval_class\u001b[49m\u001b[38;5;241;43m.\u001b[39;49m\u001b[43mrun_backend_specific_performance_tests\u001b[49m\u001b[43m(\u001b[49m\u001b[43minput_variables\u001b[49m\u001b[43m,\u001b[49m\u001b[43m \u001b[49m\u001b[43mdiff_variables\u001b[49m\u001b[43m,\u001b[49m\u001b[43m \u001b[49m\u001b[43mwarmup_iterations\u001b[49m\u001b[43m,\u001b[49m\u001b[43m \u001b[49m\u001b[43mtest_iterations\u001b[49m\u001b[43m)\u001b[49m\n",
      "File \u001b[0;32m~/Documents/dev/DiffiPy/DifferentiationInterface/src/diffipy/NodesDifferentiation.py:89\u001b[0m, in \u001b[0;36mResultNode.run_backend_specific_performance_tests\u001b[0;34m(self, input_variables, diff_variables, warmup_iterations, test_iterations)\u001b[0m\n\u001b[1;32m     86\u001b[0m diff_dict \u001b[38;5;241m=\u001b[39m {var\u001b[38;5;241m.\u001b[39midentifier: var\u001b[38;5;241m.\u001b[39mvalue \u001b[38;5;28;01mfor\u001b[39;00m var \u001b[38;5;129;01min\u001b[39;00m diff_variables}\n\u001b[1;32m     87\u001b[0m variable_dict \u001b[38;5;241m=\u001b[39m {var\u001b[38;5;241m.\u001b[39midentifier \u001b[38;5;28;01mfor\u001b[39;00m var \u001b[38;5;129;01min\u001b[39;00m diff_variables}\n\u001b[0;32m---> 89\u001b[0m myfunc \u001b[38;5;241m=\u001b[39m \u001b[38;5;28;43mself\u001b[39;49m\u001b[38;5;241;43m.\u001b[39;49m\u001b[43moperationNode\u001b[49m\u001b[38;5;241;43m.\u001b[39;49m\u001b[43mget_optimized_executable\u001b[49m\u001b[43m(\u001b[49m\u001b[43minput_dict\u001b[49m\u001b[43m,\u001b[49m\u001b[43m \u001b[49m\u001b[43mdiff_dict\u001b[49m\u001b[43m)\u001b[49m\n\u001b[1;32m     91\u001b[0m time_total_optimized \u001b[38;5;241m=\u001b[39m \u001b[38;5;241m0\u001b[39m\n\u001b[1;32m     92\u001b[0m times_optimized \u001b[38;5;241m=\u001b[39m []\n",
      "\u001b[0;31mTypeError\u001b[0m: get_optimized_executable() takes 1 positional argument but 3 were given"
     ]
    }
   ],
   "source": [
    "backend_array = ['numpy', 'torch',  'tensorflow', 'jax', 'aadc'] # aadc not pre-computing tape yet...\n",
    "\n",
    "for backend in backend_array:\n",
    "    dp.setBackend(backend)\n",
    "    # Initialize variables and constants\n",
    "    s0_value = 100.0\n",
    "    K_value = 110.0\n",
    "    r_value = 0.05\n",
    "    sigma_value = 0.3\n",
    "    dt_value = 1.0\n",
    "    z_value = 0.5\n",
    "    N = 1000000\n",
    "    seed = 1\n",
    "\n",
    "    # Define variables\n",
    "    s0 = dp.variable(s0_value, 'input','s0')\n",
    "    K = dp.variable(K_value, 'input','K')\n",
    "    r = dp.variable(r_value, 'input','r')\n",
    "    sigma = dp.variable(sigma_value, 'input','sigma')\n",
    "    dt = dp.variable(dt_value, 'input','dt')\n",
    "    z = dp.variable(z_value, 'randomVariableNormal','z')\n",
    "\n",
    "    func_input_variables = [s0, K, r, sigma, dt, z]\n",
    "    diff_variables = [s0, K, r, sigma, dt]\n",
    "\n",
    "    # Record Tape: Standard Monte Carlo\n",
    "\n",
    "    s = s0 * dp.exp((r - sigma **2 / 2) * dt + sigma * dp.sqrt(dt) * z)\n",
    "    payoff =  dp.if_(s > K, s - K, 0)\n",
    "    PV_standard = dp.exp(-r * dt) * dp.sum(payoff) / N\n",
    "\n",
    "    ### Test performance # seed and NewSample not working for aadc yet\n",
    "    #dp.seed(seed)\n",
    "    #pre_computed_random_variables = z.NewSample(N) # pre-evaluate random samples\n",
    "\n",
    "    PV_standard.run_performance_test(func_input_variables, diff_variables, warmup_iterations = 3, test_iterations = 10)\n"
   ]
  },
  {
   "cell_type": "markdown",
   "metadata": {},
   "source": []
  }
 ],
 "metadata": {
  "kernelspec": {
   "display_name": "Python 3",
   "language": "python",
   "name": "python3"
  },
  "language_info": {
   "codemirror_mode": {
    "name": "ipython",
    "version": 3
   },
   "file_extension": ".py",
   "mimetype": "text/x-python",
   "name": "python",
   "nbconvert_exporter": "python",
   "pygments_lexer": "ipython3",
   "version": "3.9.16"
  }
 },
 "nbformat": 4,
 "nbformat_minor": 2
}
