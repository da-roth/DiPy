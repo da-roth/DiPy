{
 "cells": [
  {
   "cell_type": "code",
   "execution_count": 3,
   "metadata": {},
   "outputs": [],
   "source": [
    "import os\n",
    "import sys\n",
    "\n",
    "sys.path.append(os.path.abspath(os.path.join(os.getcwd(), os.pardir, os.pardir)))\n",
    "\n",
    "\n",
    "import DifferentiationInterface.src.diffipy.diffipy as dp"
   ]
  },
  {
   "cell_type": "code",
   "execution_count": 4,
   "metadata": {},
   "outputs": [
    {
     "name": "stdout",
     "output_type": "stream",
     "text": [
      "Backend              Eval-Result  mean runtime    variance runtime    gradient directions: {'K', 's0', 'r', 'dt', 'sigma'}\n",
      "numpy                10.041970    0.077220        0.000000            [0.5001524653991396, -0.36339342042168704, 39.97366803307756, 39.9872181960248, 7.9967309575934555]\n",
      "numpy_as_func        10.041970    0.072629        0.000001            {'s0': 0.5001524975511984, 'K': -0.36339337601276606, 'r': 39.97366806132163, 'sigma': 39.98721820632767, 'dt': 7.996730952442021}\n",
      "torch                10.035641    0.014930        0.000127            [0.4997710883617401, -0.36310428380966187, 39.94146728515625, 39.96198654174805, 7.9913716316223145]\n",
      "torch_as_func        10.035641    0.001173        0.000000            [tensor(0.4998), tensor(-0.3631), tensor(39.9415), tensor(39.9620), tensor(7.9914)]\n",
      "tensorflow           10.029771    0.031398        0.000034            [0.49989134, -0.36326697, 39.959366, 39.94162, 7.989212]\n",
      "tensorflow_as_func   10.029771    0.009007        0.000015            [<tf.Tensor: shape=(), dtype=float32, numpy=0.49989134>, <tf.Tensor: shape=(), dtype=float32, numpy=-0.36326697>, <tf.Tensor: shape=(), dtype=float32, numpy=39.959366>, <tf.Tensor: shape=(), dtype=float32, numpy=39.94162>, <tf.Tensor: shape=(), dtype=float32, numpy=7.989212>]\n",
      "jax_as_func          10.033223    0.014886        0.000004            {'s0': Array(0.49972072, dtype=float32, weak_type=True), 'K': Array(-0.36308047, dtype=float32, weak_type=True), 'r': Array(39.938858, dtype=float32, weak_type=True), 'sigma': Array(39.954735, dtype=float32, weak_type=True), 'dt': Array(7.9901543, dtype=float32, weak_type=True)}\n"
     ]
    },
    {
     "ename": "TypeError",
     "evalue": "__init__(): incompatible constructor arguments. The following argument types are supported:\n    1. aadc._aadc_core.idouble(arg0: float)\n    2. aadc._aadc_core.idouble(arg0: aadc._aadc_core.idouble)\n\nInvoked with: array([-0.57897872,  1.92670371, -1.25380562, ...,  0.88467465,\n        0.86908353, -0.04137146])",
     "output_type": "error",
     "traceback": [
      "\u001b[0;31m---------------------------------------------------------------------------\u001b[0m",
      "\u001b[0;31mTypeError\u001b[0m                                 Traceback (most recent call last)",
      "Cell \u001b[0;32mIn[4], line 34\u001b[0m\n\u001b[1;32m     30\u001b[0m PV_standard \u001b[38;5;241m=\u001b[39m dp\u001b[38;5;241m.\u001b[39mexp(\u001b[38;5;241m-\u001b[39mr \u001b[38;5;241m*\u001b[39m dt) \u001b[38;5;241m*\u001b[39m dp\u001b[38;5;241m.\u001b[39msum(payoff) \u001b[38;5;241m/\u001b[39m N\n\u001b[1;32m     32\u001b[0m \u001b[38;5;66;03m### Test performance # seed and NewSample not working for aadc yet\u001b[39;00m\n\u001b[1;32m     33\u001b[0m \u001b[38;5;66;03m#dp.seed(seed)\u001b[39;00m\n\u001b[0;32m---> 34\u001b[0m pre_computed_random_variables \u001b[38;5;241m=\u001b[39m \u001b[43mz\u001b[49m\u001b[38;5;241;43m.\u001b[39;49m\u001b[43mNewSample\u001b[49m\u001b[43m(\u001b[49m\u001b[43mN\u001b[49m\u001b[43m)\u001b[49m \u001b[38;5;66;03m# pre-evaluate random samples\u001b[39;00m\n\u001b[1;32m     36\u001b[0m PV_standard\u001b[38;5;241m.\u001b[39mrun_performance_test(func_input_variables, diff_variables, warmup_iterations \u001b[38;5;241m=\u001b[39m \u001b[38;5;241m3\u001b[39m, test_iterations \u001b[38;5;241m=\u001b[39m \u001b[38;5;241m5\u001b[39m)\n",
      "File \u001b[0;32m~/Documents/dev/DiffiPy/DifferentiationInterface/src/diffipy/backends/aadc/NodesAadc.py:80\u001b[0m, in \u001b[0;36mRandomVariableNodeAadcNormal.NewSample\u001b[0;34m(self, sampleSize)\u001b[0m\n\u001b[1;32m     79\u001b[0m \u001b[38;5;28;01mdef\u001b[39;00m \u001b[38;5;21mNewSample\u001b[39m(\u001b[38;5;28mself\u001b[39m, sampleSize \u001b[38;5;241m=\u001b[39m \u001b[38;5;241m1\u001b[39m):\n\u001b[0;32m---> 80\u001b[0m     \u001b[38;5;28mself\u001b[39m\u001b[38;5;241m.\u001b[39mvalue \u001b[38;5;241m=\u001b[39m \u001b[43maadc\u001b[49m\u001b[38;5;241;43m.\u001b[39;49m\u001b[43midouble\u001b[49m\u001b[43m(\u001b[49m\u001b[43mnp\u001b[49m\u001b[38;5;241;43m.\u001b[39;49m\u001b[43mrandom\u001b[49m\u001b[38;5;241;43m.\u001b[39;49m\u001b[43mnormal\u001b[49m\u001b[43m(\u001b[49m\u001b[43msize\u001b[49m\u001b[43m \u001b[49m\u001b[38;5;241;43m=\u001b[39;49m\u001b[43m \u001b[49m\u001b[43msampleSize\u001b[49m\u001b[43m)\u001b[49m\u001b[43m)\u001b[49m\n",
      "\u001b[0;31mTypeError\u001b[0m: __init__(): incompatible constructor arguments. The following argument types are supported:\n    1. aadc._aadc_core.idouble(arg0: float)\n    2. aadc._aadc_core.idouble(arg0: aadc._aadc_core.idouble)\n\nInvoked with: array([-0.57897872,  1.92670371, -1.25380562, ...,  0.88467465,\n        0.86908353, -0.04137146])"
     ]
    }
   ],
   "source": [
    "backend_array = ['numpy', 'torch',  'tensorflow', 'jax', 'aadc'] # aadc not pre-computing tape yet...\n",
    "\n",
    "for backend in backend_array:\n",
    "    dp.setBackend(backend)\n",
    "    # Initialize variables and constants\n",
    "    s0_value = 100.0\n",
    "    K_value = 110.0\n",
    "    r_value = 0.05\n",
    "    sigma_value = 0.3\n",
    "    dt_value = 1.0\n",
    "    z_value = 0.5\n",
    "    N = 1000000\n",
    "    seed = 1\n",
    "\n",
    "    # Define variables\n",
    "    s0 = dp.variable(s0_value, 'input','s0')\n",
    "    K = dp.variable(K_value, 'input','K')\n",
    "    r = dp.variable(r_value, 'input','r')\n",
    "    sigma = dp.variable(sigma_value, 'input','sigma')\n",
    "    dt = dp.variable(dt_value, 'input','dt')\n",
    "    z = dp.variable(z_value, 'randomVariableNormal','z')\n",
    "\n",
    "    func_input_variables = [s0, K, r, sigma, dt, z]\n",
    "    diff_variables = [s0, K, r, sigma, dt]\n",
    "\n",
    "    # Record Tape: Standard Monte Carlo\n",
    "\n",
    "    s = s0 * dp.exp((r - sigma **2 / 2) * dt + sigma * dp.sqrt(dt) * z)\n",
    "    payoff =  dp.if_(s > K, s - K, 0)\n",
    "    PV_standard = dp.exp(-r * dt) * dp.sum(payoff) / N\n",
    "\n",
    "    ### Test performance # seed and NewSample not working for aadc yet\n",
    "    #dp.seed(seed)\n",
    "    #pre_computed_random_variables = z.NewSample(N) # pre-evaluate random samples\n",
    "\n",
    "    PV_standard.run_performance_test(func_input_variables, diff_variables, warmup_iterations = 3, test_iterations = 5)\n"
   ]
  },
  {
   "cell_type": "markdown",
   "metadata": {},
   "source": []
  }
 ],
 "metadata": {
  "kernelspec": {
   "display_name": "Python 3",
   "language": "python",
   "name": "python3"
  },
  "language_info": {
   "codemirror_mode": {
    "name": "ipython",
    "version": 3
   },
   "file_extension": ".py",
   "mimetype": "text/x-python",
   "name": "python",
   "nbconvert_exporter": "python",
   "pygments_lexer": "ipython3",
   "version": "3.9.16"
  }
 },
 "nbformat": 4,
 "nbformat_minor": 2
}
