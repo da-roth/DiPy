{
 "cells": [
  {
   "cell_type": "code",
   "execution_count": 1,
   "metadata": {},
   "outputs": [],
   "source": [
    "import os\n",
    "import sys\n",
    "\n",
    "os.getcwd()  # Check the current working directory\n",
    "sys.path.append(os.path.abspath(os.path.join(os.getcwd(), '..\\..')))\n",
    "\n",
    "import DifferentiationInterface.src.diffipy.diffipy as dp"
   ]
  },
  {
   "cell_type": "code",
   "execution_count": 2,
   "metadata": {},
   "outputs": [
    {
     "name": "stdout",
     "output_type": "stream",
     "text": [
      "Backend              Eval-Result  mean runtime    variance runtime    gradient directions: {'dt', 'sigma', 'K', 's0', 'r'}\n",
      "numpy                10.069236    0.005052        0.000048            [40.19209813019842, 8.025041059944726, 0.5026067643854049, 40.103230874777296, -0.36537673455683256]\n",
      "numpy_as_func        10.069236    0.005262        0.000000            {'r': 40.1920981316195, 'dt': 8.025041063142169, 's0': 0.5026067581681559, 'sigma': 40.10323087761947, 'K': -0.3653767416622599}\n",
      "torch                10.009336    0.003769        0.000001            [40.062740325927734, 7.97985315322876, 0.500720739364624, 39.84477233886719, -0.3642067313194275]\n",
      "torch_as_func        10.009337    0.000750        0.000000            [tensor(40.0627), tensor(7.9799), tensor(0.5007), tensor(39.8448), tensor(-0.3642)]\n",
      "tensorflow           9.987544     0.018524        0.000000            [40.1454, 7.9673195, 0.5013294, 39.733658, -0.36495823]\n",
      "tensorflow_as_func   9.987547     0.004881        0.000000            [<tf.Tensor: shape=(), dtype=float32, numpy=40.1454>, <tf.Tensor: shape=(), dtype=float32, numpy=7.9673195>, <tf.Tensor: shape=(), dtype=float32, numpy=0.5013294>, <tf.Tensor: shape=(), dtype=float32, numpy=39.733658>, <tf.Tensor: shape=(), dtype=float32, numpy=-0.36495823>]\n",
      "jax_as_func          10.073792    0.008221        0.000000            {'r': Array(40.118195, dtype=float32, weak_type=True), 'dt': Array(8.023831, dtype=float32, weak_type=True), 's0': Array(0.50191987, dtype=float32, weak_type=True), 'sigma': Array(40.119484, dtype=float32, weak_type=True), 'K': Array(-0.36471087, dtype=float32, weak_type=True)}\n"
     ]
    }
   ],
   "source": [
    "backend_array = ['numpy', 'torch',  'tensorflow', 'jax']\n",
    "\n",
    "for backend in backend_array:\n",
    "    dp.setBackend(backend)\n",
    "    # Initialize variables and constants\n",
    "    s0_value = 100.0\n",
    "    K_value = 110.0\n",
    "    r_value = 0.05\n",
    "    sigma_value = 0.3\n",
    "    dt_value = 1.0\n",
    "    z_value = 0.5\n",
    "    N = 100000\n",
    "    seed = 1\n",
    "\n",
    "    # Define variables\n",
    "    s0 = dp.variable(s0_value, 'input','s0')\n",
    "    K = dp.variable(K_value, 'input','K')\n",
    "    r = dp.variable(r_value, 'input','r')\n",
    "    sigma = dp.variable(sigma_value, 'input','sigma')\n",
    "    dt = dp.variable(dt_value, 'input','dt')\n",
    "    z = dp.variable(z_value, 'randomVariableNormal','z')\n",
    "\n",
    "    func_input_variables = [s0, K, r, sigma, dt, z]\n",
    "    diff_variables = None#[s0, K, r, sigma, dt]\n",
    "\n",
    "    # Record Tape: Standard Monte Carlo\n",
    "\n",
    "    s = s0 * dp.exp((r - sigma **2 / 2) * dt + sigma * dp.sqrt(dt) * z)\n",
    "    payoff =  dp.if_(s > K, s - K, 0)\n",
    "    PV_standard = dp.exp(-r * dt) * dp.sum(payoff) / N\n",
    "\n",
    "    ### Test performance\n",
    "    dp.seed(seed)\n",
    "    pre_computed_random_variables = z.NewSample(N) # pre-evaluate random samples\n",
    "\n",
    "    PV_standard.run_performance_test(func_input_variables, diff_variables, warmup_iterations = 10, test_iterations = 40)\n"
   ]
  },
  {
   "cell_type": "markdown",
   "metadata": {},
   "source": []
  }
 ],
 "metadata": {
  "kernelspec": {
   "display_name": "Python 3",
   "language": "python",
   "name": "python3"
  },
  "language_info": {
   "codemirror_mode": {
    "name": "ipython",
    "version": 3
   },
   "file_extension": ".py",
   "mimetype": "text/x-python",
   "name": "python",
   "nbconvert_exporter": "python",
   "pygments_lexer": "ipython3",
   "version": "3.10.11"
  }
 },
 "nbformat": 4,
 "nbformat_minor": 2
}
