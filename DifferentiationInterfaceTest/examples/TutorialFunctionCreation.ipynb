{
 "cells": [
  {
   "cell_type": "code",
   "execution_count": 1,
   "metadata": {},
   "outputs": [],
   "source": [
    "import os\n",
    "import sys\n",
    "\n",
    "os.getcwd()  # Check the current working directory\n",
    "sys.path.append(os.path.abspath(os.path.join(os.getcwd(), '..\\..')))\n",
    "\n",
    "import DifferentiationInterface.src.diffipy.diffipy as dp"
   ]
  },
  {
   "cell_type": "code",
   "execution_count": 5,
   "metadata": {},
   "outputs": [
    {
     "name": "stdout",
     "output_type": "stream",
     "text": [
      "Backend              Result       Gradient    \n",
      "torch                11.069163    15.654160   \n",
      "torch_optimized      11.069163    15.654160   \n"
     ]
    }
   ],
   "source": [
    "\n",
    "dp.setBackend('torch')\n",
    "\n",
    "\n",
    "x_value = 1.7\n",
    "x = dp.variable(x_value, 'input', 'x')\n",
    "\n",
    "a = dp.sqrt(2.0)\n",
    "y = dp.exp(x * a)\n",
    "\n",
    "result = y.eval()\n",
    "derivative = y.grad(x)\n",
    "\n",
    "\n",
    "# Create optimized func\n",
    "myfunc = y.get_optimized_executable()\n",
    "\n",
    "# Usage of optimized func without graph.\n",
    "result_optimized = myfunc(x.value)\n",
    "x.value.grad = None\n",
    "result_optimized.backward()\n",
    "derivativeresult_optimized = x.value.grad.item()\n",
    "\n",
    "print(\"{:<20} {:<12} {:<12}\".format('Backend', 'Result', 'Gradient'))\n",
    "print(\"{:<20} {:<12.6f} {:<12.6f}\".format('torch', result, derivative))\n",
    "print(\"{:<20} {:<12.6f} {:<12.6f}\".format('torch_optimized', result_optimized, derivativeresult_optimized))"
   ]
  }
 ],
 "metadata": {
  "kernelspec": {
   "display_name": "Python 3",
   "language": "python",
   "name": "python3"
  },
  "language_info": {
   "codemirror_mode": {
    "name": "ipython",
    "version": 3
   },
   "file_extension": ".py",
   "mimetype": "text/x-python",
   "name": "python",
   "nbconvert_exporter": "python",
   "pygments_lexer": "ipython3",
   "version": "3.10.11"
  }
 },
 "nbformat": 4,
 "nbformat_minor": 2
}
